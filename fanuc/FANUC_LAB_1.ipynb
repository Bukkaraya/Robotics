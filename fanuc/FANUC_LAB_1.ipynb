{
 "cells": [
  {
   "cell_type": "code",
   "execution_count": 1,
   "metadata": {},
   "outputs": [],
   "source": [
    "#!/usr/bin/env python\n",
    "\n",
    "from fanuc_pcdk_client import FanucPCDKClient\n",
    "from robot_loc_world import RobotLocWorld\n",
    "from robot_loc_joint import RobotLocJoint\n",
    "from time import sleep\n",
    "\n",
    "ROBOT_SPEED = 30\n",
    "ROBOT_SPEED_LINEAR = 45"
   ]
  },
  {
   "cell_type": "code",
   "execution_count": 2,
   "metadata": {},
   "outputs": [
    {
     "name": "stdout",
     "output_type": "stream",
     "text": [
      "Connecting to robot at 192.168.1.1\n",
      "Robot Status: \u001b[32mConnected\n",
      "\u001b[0m\n"
     ]
    }
   ],
   "source": [
    "# Robot init\n",
    "robot = FanucPCDKClient()\n",
    "robot.connect() \n",
    "\n",
    "# Run teach pendant program.\n",
    "robot.run_program('PCDK')\n",
    "robot.reset_alarms()\n",
    "\n",
    "# Adjust the speed of the robot\n",
    "robot.set_speed(ROBOT_SPEED)"
   ]
  },
  {
   "cell_type": "markdown",
   "metadata": {},
   "source": [
    "## Robot Motion"
   ]
  },
  {
   "cell_type": "markdown",
   "metadata": {},
   "source": [
    "There are three motions the robot can perform. Joint movements, world movements, and linear movements."
   ]
  },
  {
   "cell_type": "code",
   "execution_count": 5,
   "metadata": {
    "scrolled": false
   },
   "outputs": [
    {
     "name": "stdout",
     "output_type": "stream",
     "text": [
      "> Already at location; skipping move\n"
     ]
    }
   ],
   "source": [
    "robot.open_gripper()\n",
    "\n",
    "world_loc = RobotLocWorld(x=-26.088, y=-607.618, z=-243.798,\n",
    "                          w=-177.621, p=-58.327, r=-84.941, \n",
    "                          f=True, u=True, t=True)\n",
    "\n",
    "robot.move(world_loc)\n",
    "\n",
    "\n",
    "world_loc = RobotLocWorld(x=-26.088, y=-607.618, z=-343.798,\n",
    "                          w=-177.621, p=-58.327, r=-84.941,  \n",
    "                          f=True, u=True, t=True)\n",
    "\n",
    "robot.move(world_loc)\n",
    "\n",
    "robot.close_gripper()\n",
    "\n",
    "world_loc = RobotLocWorld(x=-26.088, y=-607.618, z=-343.798,\n",
    "                          w=-177.621, p=-58.327, r=-84.941,   \n",
    "                          f=True, u=True, t=True)\n",
    "\n",
    "robot.move(world_loc)\n",
    "\n",
    "\n",
    "world_loc = RobotLocWorld(x=-26.088, y=-607.618, z=-243.798,\n",
    "                          w=-177.621, p=-58.327, r=-84.941,   \n",
    "                          f=True, u=True, t=True)\n",
    "\n",
    "robot.move(world_loc)\n",
    "\n",
    "world_loc = RobotLocWorld(x=26.056, y=-296.932, z=-156.105,\n",
    "                          w=-176.998, p=31.156, r=-2.119, \n",
    "                          f=False, u=True, t=True)\n",
    "\n",
    "robot.move(world_loc)\n",
    "                                                                                                                                     \n",
    "world_loc = RobotLocWorld(x=35.5, y=-293.443, z=-353,\n",
    "                          w=178.988, p=33, r=-3.953, \n",
    "                          f=False, u=True, t=True)\n",
    "\n",
    "robot.move(world_loc)\n",
    "\n",
    "world_loc = RobotLocWorld(x=-50.641, y=-293.443, z=-353,\n",
    "                          w=178.988, p=33, r=-3.953, \n",
    "                          f=False, u=True, t=True)\n",
    "\n",
    "robot.move(world_loc, move_linear=True)\n",
    "\n",
    "# Open gripper\n",
    "robot.open_gripper()\n"
   ]
  },
  {
   "cell_type": "markdown",
   "metadata": {},
   "source": [
    "You can retrieve the current location of the robot in either joint or world coordinates with the following commands:"
   ]
  },
  {
   "cell_type": "code",
   "execution_count": 6,
   "metadata": {},
   "outputs": [],
   "source": [
    "world_loc = RobotLocWorld(x=35.5, y=-293.443, z=-353,\n",
    "                          w=178.988, p=33, r=-3.953, \n",
    "                          f=False, u=True, t=True)\n",
    "\n",
    "robot.move(world_loc)"
   ]
  },
  {
   "cell_type": "markdown",
   "metadata": {},
   "source": [
    "## Gripper Actuation"
   ]
  },
  {
   "cell_type": "code",
   "execution_count": 25,
   "metadata": {},
   "outputs": [],
   "source": [
    "world_loc = RobotLocWorld(x=25, y=-293.443, z=-353,\n",
    "                          w=178.988, p=30.853, r=-3.953, \n",
    "                          f=False, u=True, t=True)"
   ]
  },
  {
   "cell_type": "code",
   "execution_count": null,
   "metadata": {},
   "outputs": [],
   "source": [
    "# Close Gripper\n",
    "robot.close_gripper()"
   ]
  },
  {
   "cell_type": "markdown",
   "metadata": {},
   "source": [
    "## Close connection with robot"
   ]
  },
  {
   "cell_type": "code",
   "execution_count": null,
   "metadata": {},
   "outputs": [],
   "source": [
    "# Close the connection to the Fanuc PCDK server\n",
    "robot.close_connection()"
   ]
  }
 ],
 "metadata": {
  "kernelspec": {
   "display_name": "Python 3",
   "language": "python",
   "name": "python3"
  },
  "language_info": {
   "codemirror_mode": {
    "name": "ipython",
    "version": 3
   },
   "file_extension": ".py",
   "mimetype": "text/x-python",
   "name": "python",
   "nbconvert_exporter": "python",
   "pygments_lexer": "ipython3",
   "version": "3.7.3"
  }
 },
 "nbformat": 4,
 "nbformat_minor": 2
}
