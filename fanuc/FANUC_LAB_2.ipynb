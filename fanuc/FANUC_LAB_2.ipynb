{
 "cells": [
  {
   "cell_type": "code",
   "execution_count": 9,
   "metadata": {},
   "outputs": [],
   "source": [
    "#!/usr/bin/env python\n",
    "\n",
    "from fanuc_pcdk_client import FanucPCDKClient\n",
    "from robot_loc_world import RobotLocWorld\n",
    "from robot_loc_joint import RobotLocJoint\n",
    "from time import sleep\n",
    "\n",
    "ROBOT_SPEED = 45\n",
    "ROBOT_SPEED_LINEAR = 45"
   ]
  },
  {
   "cell_type": "code",
   "execution_count": 10,
   "metadata": {},
   "outputs": [
    {
     "name": "stdout",
     "output_type": "stream",
     "text": [
      "Connecting to robot at 192.168.1.1\n",
      "Robot Status: \u001b[32mConnected\n",
      "\u001b[0m\n"
     ]
    }
   ],
   "source": [
    "# Robot init\n",
    "robot = FanucPCDKClient()\n",
    "robot.connect()\n",
    "\n",
    "# Run teach pendant program.\n",
    "robot.run_program('PCDK')\n",
    "robot.reset_alarms()\n",
    "\n",
    "# Adjust the speed of the robot\n",
    "robot.set_speed(ROBOT_SPEED)"
   ]
  },
  {
   "cell_type": "code",
   "execution_count": 57,
   "metadata": {},
   "outputs": [],
   "source": [
    "num_blocks = 3"
   ]
  },
  {
   "cell_type": "code",
   "execution_count": 59,
   "metadata": {
    "scrolled": true
   },
   "outputs": [],
   "source": [
    "BLOCK_HEIGHT = 33\n",
    "LAST_BLOCK_POSITION_Z = -454.162\n",
    "\n",
    "base_pick_position = {\n",
    "    \"x\": 344.199,\n",
    "    \"y\": -169.770,\n",
    "    \"z\": -300.162\n",
    "}\n",
    "\n",
    "base_drop_position = {\n",
    "    \"x\": 190.722,\n",
    "    \"y\": 336.141,\n",
    "    \"z\": -357.318\n",
    "}\n",
    "\n",
    "block_pick_position = {\n",
    "    \"x\": 344.199,\n",
    "    \"y\": -169.770,\n",
    "    \"z\": LAST_BLOCK_POSITION_Z\n",
    "}\n",
    "\n",
    "block_drop_position = {\n",
    "    \"x\": 190.722,\n",
    "    \"y\": 336.141,\n",
    "    \"z\": -456.318\n",
    "}\n",
    "\n",
    "block_pick_position[\"z\"] += (num_blocks - 1)*33\n",
    "\n",
    "\n",
    "robot.open_gripper()\n",
    "\n",
    "for block_number in range(0, num_blocks):\n",
    "    world_loc = RobotLocWorld(**base_pick_position,\n",
    "                          w=179.236, p=-6.314, r=-17.135,\n",
    "                          f=False, u=True, t=True)\n",
    "    robot.move(world_loc)\n",
    "    \n",
    "    world_loc = RobotLocWorld(**block_pick_position,\n",
    "                          w=179.236, p=-6.314, r=-17.135,\n",
    "                          f=False, u=True, t=True)\n",
    "    robot.move(world_loc)\n",
    "    \n",
    "    robot.close_gripper()\n",
    "    \n",
    "    world_loc = RobotLocWorld(**base_pick_position,\n",
    "                          w=179.236, p=-6.314, r=-17.135,\n",
    "                          f=False, u=True, t=True)\n",
    "    robot.move(world_loc)\n",
    "    \n",
    "    block_pick_position[\"z\"] -= BLOCK_HEIGHT\n",
    "    \n",
    "    world_loc = RobotLocWorld(**base_drop_position,\n",
    "                          w=179.236, p=-6.314, r=-17.135,\n",
    "                          f=False, u=True, t=True)\n",
    "    robot.move(world_loc)\n",
    "    \n",
    "    world_loc = RobotLocWorld(**block_drop_position,\n",
    "                          w=179.236, p=-6.314, r=-17.135,\n",
    "                          f=False, u=True, t=True)\n",
    "    robot.move(world_loc)\n",
    "    \n",
    "    robot.open_gripper()\n",
    "    \n",
    "    world_loc = RobotLocWorld(**base_drop_position,\n",
    "                          w=179.236, p=-6.314, r=-17.135,\n",
    "                          f=False, u=True, t=True)\n",
    "    robot.move(world_loc)\n",
    "    \n",
    "    block_drop_position[\"z\"] += BLOCK_HEIGHT\n"
   ]
  },
  {
   "cell_type": "code",
   "execution_count": 52,
   "metadata": {},
   "outputs": [],
   "source": [
    "robot.open_gripper()"
   ]
  },
  {
   "cell_type": "code",
   "execution_count": 7,
   "metadata": {},
   "outputs": [],
   "source": [
    "\n",
    "\n",
    "\n"
   ]
  },
  {
   "cell_type": "code",
   "execution_count": 28,
   "metadata": {},
   "outputs": [
    {
     "name": "stdout",
     "output_type": "stream",
     "text": [
      "{'x': 344.199, 'y': -169.77, 'z': -451.162}\n"
     ]
    }
   ],
   "source": [
    "print(block_pick_location)"
   ]
  },
  {
   "cell_type": "markdown",
   "metadata": {},
   "source": [
    "## Close connection with robot"
   ]
  },
  {
   "cell_type": "code",
   "execution_count": 46,
   "metadata": {},
   "outputs": [
    {
     "name": "stdout",
     "output_type": "stream",
     "text": [
      "Terminating connection to Fanuc PCDK server.\n"
     ]
    }
   ],
   "source": [
    "# Close the connection to the Fanuc PCDK server\n",
    "robot.close_connection()"
   ]
  }
 ],
 "metadata": {
  "kernelspec": {
   "display_name": "Python 3",
   "language": "python",
   "name": "python3"
  },
  "language_info": {
   "codemirror_mode": {
    "name": "ipython",
    "version": 3
   },
   "file_extension": ".py",
   "mimetype": "text/x-python",
   "name": "python",
   "nbconvert_exporter": "python",
   "pygments_lexer": "ipython3",
   "version": "3.7.3"
  }
 },
 "nbformat": 4,
 "nbformat_minor": 2
}
