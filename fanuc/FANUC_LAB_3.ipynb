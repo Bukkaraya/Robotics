{
 "cells": [
  {
   "cell_type": "code",
   "execution_count": 2,
   "metadata": {},
   "outputs": [],
   "source": [
    "#!/usr/bin/env python\n",
    "\n",
    "from fanuc_pcdk_client import FanucPCDKClient\n",
    "from robot_loc_world import RobotLocWorld\n",
    "from robot_loc_joint import RobotLocJoint\n",
    "from time import sleep\n",
    "\n",
    "ROBOT_SPEED = 30\n",
    "ROBOT_SPEED_LINEAR = 45\n",
    "\n",
    "MOVE_UP_Z = -360.568\n",
    "WRITE_POS_Z = -378.568\n",
    "LETTER_SPACING_Y = 30"
   ]
  },
  {
   "cell_type": "code",
   "execution_count": 3,
   "metadata": {},
   "outputs": [
    {
     "name": "stdout",
     "output_type": "stream",
     "text": [
      "Connecting to robot at 192.168.1.1\n",
      "Robot Status: \u001b[32mConnected\n",
      "\u001b[0m\n"
     ]
    }
   ],
   "source": [
    "# Robot init\n",
    "robot = FanucPCDKClient()\n",
    "robot.connect()\n",
    "\n",
    "# Run teach pendant program.\n",
    "robot.run_program('PCDK')\n",
    "robot.reset_alarms()\n",
    "\n",
    "# Adjust the speed of the robot\n",
    "robot.set_speed(ROBOT_SPEED)"
   ]
  },
  {
   "cell_type": "code",
   "execution_count": 4,
   "metadata": {},
   "outputs": [],
   "source": [
    "LETTER_TO_FUNCTION = {}\n",
    "\n",
    "def write_letter(letter=None):\n",
    "    if letter is None:\n",
    "        return\n",
    "    \n",
    "    def inner(func):\n",
    "        LETTER_TO_FUNCTION[letter] = func    \n",
    "        return func\n",
    "    \n",
    "    return inner"
   ]
  },
  {
   "cell_type": "code",
   "execution_count": 5,
   "metadata": {},
   "outputs": [],
   "source": [
    "@write_letter(\"s\")\n",
    "def write_s(x, y, z):\n",
    "    world_loc = RobotLocWorld(x=x, y=y-20, z=z,\n",
    "                              w=179.599, p=.381, r=1.297,\n",
    "                              f=False, u=True, t=True)\n",
    "    robot.move(world_loc)\n",
    "\n",
    "    world_loc = RobotLocWorld(x=x+20, y=y-20, z=z,\n",
    "                              w=179.599, p=.381, r=1.297,\n",
    "                              f=False, u=True, t=True)\n",
    "    robot.move(world_loc)\n",
    "\n",
    "    world_loc = RobotLocWorld(x=x+20, y=y, z=z,\n",
    "                              w=179.599, p=.381, r=1.297,\n",
    "                              f=False, u=True, t=True)\n",
    "    robot.move(world_loc)\n",
    "\n",
    "    world_loc = RobotLocWorld(x=x+40, y=y, z=z,\n",
    "                              w=179.599, p=.381, r=1.297,\n",
    "                              f=False, u=True, t=True)\n",
    "    robot.move(world_loc)\n",
    "\n",
    "    world_loc = RobotLocWorld(x=x+40, y=y-20, z=z,\n",
    "                              w=179.599, p=.381, r=1.297,\n",
    "                              f=False, u=True, t=True)\n",
    "    robot.move(world_loc)"
   ]
  },
  {
   "cell_type": "markdown",
   "metadata": {},
   "source": [
    "## Robot Motion"
   ]
  },
  {
   "cell_type": "code",
   "execution_count": 6,
   "metadata": {},
   "outputs": [
    {
     "name": "stdout",
     "output_type": "stream",
     "text": [
      "{'s': <function write_s at 0x000001A07171B620>}\n"
     ]
    }
   ],
   "source": [
    "print(LETTER_TO_FUNCTION)"
   ]
  },
  {
   "cell_type": "code",
   "execution_count": 7,
   "metadata": {},
   "outputs": [],
   "source": [
    "@write_letter(\"l\")\n",
    "def write_l(x, y, z):\n",
    "    pos = move_pen_up(dict(x=x, y=y, z=z))\n",
    "    pos[\"y\"] -= 20\n",
    "    world_loc = RobotLocWorld(x=pos[\"x\"], y = pos[\"y\"], z=pos[\"z\"],\n",
    "                          w=179.599, p=.381, r=1.297,\n",
    "                          f=False, u=True, t=True)\n",
    "    robot.move(world_loc)\n",
    "    pos = move_pen_down(pos)\n",
    "    \n",
    "    pos[\"x\"] += 40\n",
    "    world_loc = RobotLocWorld(x=pos[\"x\"], y = pos[\"y\"], z=pos[\"z\"],\n",
    "                          w=179.599, p=.381, r=1.297,\n",
    "                          f=False, u=True, t=True)\n",
    "    robot.move(world_loc)\n",
    "    \n",
    "    pos[\"y\"] += 20\n",
    "    world_loc = RobotLocWorld(x=pos[\"x\"], y = pos[\"y\"], z=pos[\"z\"],\n",
    "                          w=179.599, p=.381, r=1.297,\n",
    "                          f=False, u=True, t=True)\n",
    "    robot.move(world_loc)\n",
    "    \n",
    "    return world_loc"
   ]
  },
  {
   "cell_type": "code",
   "execution_count": 55,
   "metadata": {},
   "outputs": [],
   "source": []
  },
  {
   "cell_type": "code",
   "execution_count": 8,
   "metadata": {},
   "outputs": [],
   "source": [
    "@write_letter(\"u\")\n",
    "def write_u(x, y, z):\n",
    "    pos = move_pen_up(dict(x=x, y=y, z=z))\n",
    "    pos[\"y\"] -= 20\n",
    "    world_loc = RobotLocWorld(x=pos[\"x\"], y = pos[\"y\"], z=pos[\"z\"],\n",
    "                          w=179.599, p=.381, r=1.297,\n",
    "                          f=False, u=True, t=True)\n",
    "    robot.move(world_loc)\n",
    "    pos = move_pen_down(pos)\n",
    "    \n",
    "    pos[\"x\"] += 40\n",
    "    world_loc = RobotLocWorld(x=pos[\"x\"], y = pos[\"y\"], z=pos[\"z\"],\n",
    "                          w=179.599, p=.381, r=1.297,\n",
    "                          f=False, u=True, t=True)\n",
    "    robot.move(world_loc)\n",
    "    \n",
    "    pos[\"y\"] += 20\n",
    "    world_loc = RobotLocWorld(x=pos[\"x\"], y = pos[\"y\"], z=pos[\"z\"],\n",
    "                          w=179.599, p=.381, r=1.297,\n",
    "                          f=False, u=True, t=True)\n",
    "    robot.move(world_loc)\n",
    "    \n",
    "    pos[\"x\"] -= 40\n",
    "    world_loc = RobotLocWorld(x=pos[\"x\"], y = pos[\"y\"], z=pos[\"z\"],\n",
    "                          w=179.599, p=.381, r=1.297,\n",
    "                          f=False, u=True, t=True)\n",
    "    robot.move(world_loc)\n",
    "                        \n",
    "    \n"
   ]
  },
  {
   "cell_type": "code",
   "execution_count": 18,
   "metadata": {},
   "outputs": [],
   "source": [
    "@write_letter(\"o\")\n",
    "def write_o(x, y, z):\n",
    "    pos = {\"x\":x, \"y\":y, \"z\":z}\n",
    "    pos[\"y\"] -= 20\n",
    "    world_loc = RobotLocWorld(x=pos[\"x\"], y = pos[\"y\"], z=pos[\"z\"],\n",
    "                          w=179.599, p=.381, r=1.297,\n",
    "                          f=False, u=True, t=True)\n",
    "    robot.move(world_loc)\n",
    "\n",
    "    \n",
    "    pos[\"x\"] += 40\n",
    "    world_loc = RobotLocWorld(x=pos[\"x\"], y = pos[\"y\"], z=pos[\"z\"],\n",
    "                          w=179.599, p=.381, r=1.297,\n",
    "                          f=False, u=True, t=True)\n",
    "    robot.move(world_loc)\n",
    "    \n",
    "    pos[\"y\"] += 20\n",
    "    world_loc = RobotLocWorld(x=pos[\"x\"], y = pos[\"y\"], z=pos[\"z\"],\n",
    "                          w=179.599, p=.381, r=1.297,\n",
    "                          f=False, u=True, t=True)\n",
    "    robot.move(world_loc)\n",
    "    \n",
    "    pos[\"x\"] -= 40\n",
    "    world_loc = RobotLocWorld(x=pos[\"x\"], y = pos[\"y\"], z=pos[\"z\"],\n",
    "                          w=179.599, p=.381, r=1.297,\n",
    "                          f=False, u=True, t=True)\n",
    "    robot.move(world_loc)\n",
    "    "
   ]
  },
  {
   "cell_type": "code",
   "execution_count": 42,
   "metadata": {},
   "outputs": [],
   "source": [
    "@write_letter(\"w\")\n",
    "def write_w(x, y, z):\n",
    "    pos = {\"x\":x, \"y\":y, \"z\":z}\n",
    "    pos = move_pen_up(pos)\n",
    "    pos[\"y\"] -= 20\n",
    "    world_loc = RobotLocWorld(x=pos[\"x\"], y = pos[\"y\"], z=pos[\"z\"],\n",
    "                          w=179.599, p=.381, r=1.297,\n",
    "                          f=False, u=True, t=True)\n",
    "    robot.move(world_loc)\n",
    "    \n",
    "    pos = move_pen_down(pos)\n",
    "    \n",
    "    pos[\"x\"] += 40\n",
    "    world_loc = RobotLocWorld(x=pos[\"x\"], y = pos[\"y\"], z=pos[\"z\"],\n",
    "                          w=179.599, p=.381, r=1.297,\n",
    "                          f=False, u=True, t=True)\n",
    "    robot.move(world_loc)\n",
    "    \n",
    "    \n",
    "    pos[\"y\"] += 10\n",
    "    world_loc = RobotLocWorld(x=pos[\"x\"], y = pos[\"y\"], z=pos[\"z\"],\n",
    "                          w=179.599, p=.381, r=1.297,\n",
    "                          f=False, u=True, t=True)\n",
    "    robot.move(world_loc)\n",
    "    \n",
    "    pos[\"x\"] -=20 \n",
    "    world_loc = RobotLocWorld(x=pos[\"x\"], y = pos[\"y\"], z=pos[\"z\"],\n",
    "                          w=179.599, p=.381, r=1.297,\n",
    "                          f=False, u=True, t=True)\n",
    "    robot.move(world_loc)\n",
    "    \n",
    "    pos[\"x\"] +=20 \n",
    "    world_loc = RobotLocWorld(x=pos[\"x\"], y = pos[\"y\"], z=pos[\"z\"],\n",
    "                          w=179.599, p=.381, r=1.297,\n",
    "                          f=False, u=True, t=True)\n",
    "    robot.move(world_loc)\n",
    "    \n",
    "    pos[\"y\"] += 10\n",
    "    world_loc = RobotLocWorld(x=pos[\"x\"], y = pos[\"y\"], z=pos[\"z\"],\n",
    "                          w=179.599, p=.381, r=1.297,\n",
    "                          f=False, u=True, t=True)\n",
    "    robot.move(world_loc)\n",
    "    \n",
    "    pos[\"x\"] -= 40\n",
    "    world_loc = RobotLocWorld(x=pos[\"x\"], y = pos[\"y\"], z=pos[\"z\"],\n",
    "                          w=179.599, p=.381, r=1.297,\n",
    "                          f=False, u=True, t=True)\n",
    "    robot.move(world_loc)"
   ]
  },
  {
   "cell_type": "code",
   "execution_count": 43,
   "metadata": {},
   "outputs": [],
   "source": [
    "@write_letter(\"b\")\n",
    "def write_o(x, y, z):\n",
    "    pos = {\"x\":x, \"y\":y, \"z\":z}\n",
    "    pos = move_pen_up(pos)\n",
    "    pos[\"y\"] -= 20\n",
    "    world_loc = RobotLocWorld(x=pos[\"x\"], y = pos[\"y\"], z=pos[\"z\"],\n",
    "                          w=179.599, p=.381, r=1.297,\n",
    "                          f=False, u=True, t=True)\n",
    "    robot.move(world_loc)\n",
    "    \n",
    "    pos = move_pen_down(pos)\n",
    "    \n",
    "    pos[\"x\"] += 40\n",
    "    world_loc = RobotLocWorld(x=pos[\"x\"], y = pos[\"y\"], z=pos[\"z\"],\n",
    "                          w=179.599, p=.381, r=1.297,\n",
    "                          f=False, u=True, t=True)\n",
    "    robot.move(world_loc)\n",
    "    \n",
    "    pos[\"y\"] += 20\n",
    "    pos[\"x\"] -= 10\n",
    "    world_loc = RobotLocWorld(x=pos[\"x\"], y = pos[\"y\"], z=pos[\"z\"],\n",
    "                          w=179.599, p=.381, r=1.297,\n",
    "                          f=False, u=True, t=True)\n",
    "    robot.move(world_loc)\n",
    "    \n",
    "    pos[\"y\"] -= 20\n",
    "    pos[\"x\"] -= 10\n",
    "    world_loc = RobotLocWorld(x=pos[\"x\"], y = pos[\"y\"], z=pos[\"z\"],\n",
    "                          w=179.599, p=.381, r=1.297,\n",
    "                          f=False, u=True, t=True)\n",
    "    robot.move(world_loc)\n",
    "    \n",
    "    pos[\"y\"] += 20\n",
    "    pos[\"x\"] -= 10\n",
    "    world_loc = RobotLocWorld(x=pos[\"x\"], y = pos[\"y\"], z=pos[\"z\"],\n",
    "                          w=179.599, p=.381, r=1.297,\n",
    "                          f=False, u=True, t=True)\n",
    "    robot.move(world_loc)\n",
    "    \n",
    "    pos[\"y\"] -= 20\n",
    "    pos[\"x\"] -= 10\n",
    "    world_loc = RobotLocWorld(x=pos[\"x\"], y = pos[\"y\"], z=pos[\"z\"],\n",
    "                          w=179.599, p=.381, r=1.297,\n",
    "                          f=False, u=True, t=True)\n",
    "    robot.move(world_loc)"
   ]
  },
  {
   "cell_type": "code",
   "execution_count": 9,
   "metadata": {},
   "outputs": [],
   "source": [
    "def move_pen_up(coordinates):\n",
    "    coordinates[\"z\"] = MOVE_UP_Z\n",
    "    \n",
    "    world_loc = RobotLocWorld(**coordinates,\n",
    "                      w=179.599, p=.381, r=1.297,\n",
    "                      f=False, u=True, t=True)\n",
    "    robot.move(world_loc)\n",
    "    \n",
    "    return coordinates"
   ]
  },
  {
   "cell_type": "code",
   "execution_count": 10,
   "metadata": {},
   "outputs": [],
   "source": [
    "def move_pen_down(coordinates):\n",
    "    coordinates[\"z\"] = WRITE_POS_Z\n",
    "    \n",
    "    world_loc = RobotLocWorld(**coordinates,\n",
    "                      w=179.599, p=.381, r=1.297,\n",
    "                      f=False, u=True, t=True)\n",
    "    robot.move(world_loc)\n",
    "    \n",
    "    return coordinates"
   ]
  },
  {
   "cell_type": "markdown",
   "metadata": {},
   "source": [
    "There are three motions the robot can perform. Joint movements, world movements, and linear movements."
   ]
  },
  {
   "cell_type": "code",
   "execution_count": 13,
   "metadata": {},
   "outputs": [],
   "source": [
    "def move_to_next_letter(coordinates):\n",
    "    coordinates[\"y\"] += 30\n",
    "    \n",
    "    world_loc = RobotLocWorld(**coordinates,\n",
    "                      w=179.599, p=.381, r=1.297,\n",
    "                      f=False, u=True, t=True)\n",
    "    robot.move(world_loc)"
   ]
  },
  {
   "cell_type": "code",
   "execution_count": 39,
   "metadata": {},
   "outputs": [],
   "source": [
    "robot.open_gripper()\n",
    "# Move robot using world coordinates\n",
    "world_loc = RobotLocWorld(x=55.091, y=394.373, z=-270.032,\n",
    "                          w=179.366, p=-2.959, r=86.211, \n",
    "                          f=False, u=True, t=True)\n",
    "robot.move(world_loc)\n",
    "\n",
    "# Move robot using world coordinates\n",
    "world_loc = RobotLocWorld(x=55.091, y=394.373, z=-347.032,\n",
    "                          w=179.366, p=-2.959, r=86.211, \n",
    "                          f=False, u=True, t=True)\n",
    "\n",
    "robot.move(world_loc)\n",
    "\n",
    "robot.close_gripper()\n",
    "\n",
    "# Move robot using world coordinates\n",
    "world_loc = RobotLocWorld(x=55.091, y=394.373, z=-270.032,\n",
    "                          w=179.366, p=-2.959, r=86.211, \n",
    "                          f=False, u=True, t=True)\n",
    "robot.move(world_loc)"
   ]
  },
  {
   "cell_type": "code",
   "execution_count": 40,
   "metadata": {},
   "outputs": [],
   "source": [
    "# Move robot using world coordinates\n",
    "world_loc = RobotLocWorld(x=57.150, y=396.795, z=-270.540,\n",
    "                          w=179.479, p=-6.918, r=83.319, \n",
    "                          f=False, u=True, t=True)\n",
    "robot.move(world_loc)\n",
    "\n",
    "# Move robot using world coordinates\n",
    "world_loc = RobotLocWorld(x=304.705, y=-13.893, z=-274.568,\n",
    "                          w=179.599, p=.381, r=1.297,\n",
    "                          f=False, u=True, t=True)\n",
    "robot.move(world_loc)"
   ]
  },
  {
   "cell_type": "markdown",
   "metadata": {},
   "source": [
    "You can retrieve the current location of the robot in either joint or world coordinates with the following commands:"
   ]
  },
  {
   "cell_type": "code",
   "execution_count": 37,
   "metadata": {},
   "outputs": [
    {
     "name": "stdout",
     "output_type": "stream",
     "text": [
      "slowub\n"
     ]
    }
   ],
   "source": [
    "string_to_write = str(input())"
   ]
  },
  {
   "cell_type": "code",
   "execution_count": 44,
   "metadata": {},
   "outputs": [
    {
     "name": "stdout",
     "output_type": "stream",
     "text": [
      "> Already at location; skipping move\n"
     ]
    }
   ],
   "source": [
    "world_position = {\n",
    "    \"x\": 304.705,\n",
    "    \"y\": -13.893,\n",
    "    \"z\": WRITE_POS_Z\n",
    "}\n",
    "\n",
    "world_loc = RobotLocWorld(**world_position,\n",
    "                      w=179.599, p=.381, r=1.297,\n",
    "                      f=False, u=True, t=True)\n",
    "robot.move(world_loc)\n",
    "\n",
    "string_to_write = string_to_write.lower()\n",
    "\n",
    "for letter in string_to_write:\n",
    "    move_pen_down(world_position)\n",
    "    \n",
    "    LETTER_TO_FUNCTION[letter](**world_position)\n",
    "\n",
    "    move_pen_up(world_position)\n",
    "\n",
    "    move_to_next_letter(world_position)\n"
   ]
  },
  {
   "cell_type": "code",
   "execution_count": 45,
   "metadata": {},
   "outputs": [],
   "source": [
    "robot.open_gripper()"
   ]
  },
  {
   "cell_type": "markdown",
   "metadata": {},
   "source": [
    "## Close connection with robot"
   ]
  },
  {
   "cell_type": "code",
   "execution_count": null,
   "metadata": {},
   "outputs": [],
   "source": [
    "# Close the connection to the Fanuc PCDK server\n",
    "robot.close_connection()"
   ]
  }
 ],
 "metadata": {
  "kernelspec": {
   "display_name": "Python 3",
   "language": "python",
   "name": "python3"
  },
  "language_info": {
   "codemirror_mode": {
    "name": "ipython",
    "version": 3
   },
   "file_extension": ".py",
   "mimetype": "text/x-python",
   "name": "python",
   "nbconvert_exporter": "python",
   "pygments_lexer": "ipython3",
   "version": "3.7.3"
  }
 },
 "nbformat": 4,
 "nbformat_minor": 2
}
