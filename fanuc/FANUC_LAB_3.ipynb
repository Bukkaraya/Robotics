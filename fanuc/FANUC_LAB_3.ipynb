{
 "cells": [
  {
   "cell_type": "code",
   "execution_count": 12,
   "metadata": {},
   "outputs": [],
   "source": [
    "#!/usr/bin/env python\n",
    "\n",
    "from fanuc_pcdk_client import FanucPCDKClient\n",
    "from robot_loc_world import RobotLocWorld\n",
    "from robot_loc_joint import RobotLocJoint\n",
    "from time import sleep\n",
    "\n",
    "ROBOT_SPEED = 30\n",
    "ROBOT_SPEED_LINEAR = 45"
   ]
  },
  {
   "cell_type": "code",
   "execution_count": null,
   "metadata": {},
   "outputs": [],
   "source": [
    "# Robot init\n",
    "robot = FanucPCDKClient()\n",
    "robot.connect()\n",
    "\n",
    "# Run teach pendant program.\n",
    "robot.run_program('PCDK')\n",
    "robot.reset_alarms()\n",
    "\n",
    "# Adjust the speed of the robot\n",
    "robot.set_speed(ROBOT_SPEED)"
   ]
  },
  {
   "cell_type": "markdown",
   "metadata": {},
   "source": [
    "## Robot Motion"
   ]
  },
  {
   "cell_type": "markdown",
   "metadata": {},
   "source": [
    "There are three motions the robot can perform. Joint movements, world movements, and linear movements."
   ]
  },
  {
   "cell_type": "code",
   "execution_count": 36,
   "metadata": {},
   "outputs": [],
   "source": [
    "robot.open_gripper()\n",
    "# Move robot using world coordinates\n",
    "world_loc = RobotLocWorld(x=55.091, y=394.373, z=-270.032,\n",
    "                          w=179.366, p=-2.959, r=86.211, \n",
    "                          f=False, u=True, t=True)\n",
    "robot.move(world_loc)\n",
    "\n",
    "# Move robot using world coordinates\n",
    "world_loc = RobotLocWorld(x=55.091, y=394.373, z=-347.032,\n",
    "                          w=179.366, p=-2.959, r=86.211, \n",
    "                          f=False, u=True, t=True)\n",
    "\n",
    "robot.move(world_loc)\n",
    "\n",
    "robot.close_gripper()\n",
    "\n",
    "# Move robot using world coordinates\n",
    "world_loc = RobotLocWorld(x=55.091, y=394.373, z=-270.032,\n",
    "                          w=179.366, p=-2.959, r=86.211, \n",
    "                          f=False, u=True, t=True)\n",
    "robot.move(world_loc)"
   ]
  },
  {
   "cell_type": "code",
   "execution_count": 37,
   "metadata": {},
   "outputs": [],
   "source": [
    "# Move robot using world coordinates\n",
    "world_loc = RobotLocWorld(x=57.150, y=396.795, z=-270.540,\n",
    "                          w=179.479, p=-6.918, r=83.319, \n",
    "                          f=False, u=True, t=True)\n",
    "robot.move(world_loc)\n",
    "\n",
    "# Move robot using world coordinates\n",
    "world_loc = RobotLocWorld(x=304.705, y=-13.893, z=-274.568,\n",
    "                          w=179.599, p=.381, r=1.297,\n",
    "                          f=False, u=True, t=True)\n",
    "robot.move(world_loc)"
   ]
  },
  {
   "cell_type": "markdown",
   "metadata": {},
   "source": [
    "You can retrieve the current location of the robot in either joint or world coordinates with the following commands:"
   ]
  },
  {
   "cell_type": "code",
   "execution_count": 38,
   "metadata": {},
   "outputs": [],
   "source": [
    "world_loc = RobotLocWorld(x=304.705, y=-13.893, z=-374.568,\n",
    "                          w=179.599, p=.381, r=1.297,\n",
    "                          f=False, u=True, t=True)\n",
    "robot.move(world_loc)"
   ]
  },
  {
   "cell_type": "markdown",
   "metadata": {},
   "source": [
    "## Gripper Actuation"
   ]
  },
  {
   "cell_type": "code",
   "execution_count": 35,
   "metadata": {},
   "outputs": [],
   "source": [
    "robot.open_gripper()"
   ]
  },
  {
   "cell_type": "code",
   "execution_count": null,
   "metadata": {},
   "outputs": [],
   "source": []
  },
  {
   "cell_type": "markdown",
   "metadata": {},
   "source": [
    "## Close connection with robot"
   ]
  },
  {
   "cell_type": "code",
   "execution_count": null,
   "metadata": {},
   "outputs": [],
   "source": [
    "# Close the connection to the Fanuc PCDK server\n",
    "robot.close_connection()"
   ]
  }
 ],
 "metadata": {
  "kernelspec": {
   "display_name": "Python 3",
   "language": "python",
   "name": "python3"
  },
  "language_info": {
   "codemirror_mode": {
    "name": "ipython",
    "version": 3
   },
   "file_extension": ".py",
   "mimetype": "text/x-python",
   "name": "python",
   "nbconvert_exporter": "python",
   "pygments_lexer": "ipython3",
   "version": "3.7.3"
  }
 },
 "nbformat": 4,
 "nbformat_minor": 2
}
