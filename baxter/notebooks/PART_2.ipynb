{
 "metadata": {
  "name": ""
 },
 "nbformat": 3,
 "nbformat_minor": 0,
 "worksheets": [
  {
   "cells": [
    {
     "cell_type": "markdown",
     "metadata": {},
     "source": [
      "# `uogbaxter` library demo\n",
      "\n",
      "See how to use the `uogbaxter` library to perform high-level functions with Baxter. \n",
      "\n",
      "##### ENGG 4460 University of Guelph, Patrick Wspanialy"
     ]
    },
    {
     "cell_type": "markdown",
     "metadata": {},
     "source": [
      "Notebook settings to configure how images are displayed and to automatically reload code if changed in libraries"
     ]
    },
    {
     "cell_type": "code",
     "collapsed": false,
     "input": [
      "%matplotlib inline\n",
      "%config IPCompleter.greedy=True\n",
      "%reload_ext autoreload\n",
      "%autoreload 2"
     ],
     "language": "python",
     "metadata": {},
     "outputs": [],
     "prompt_number": 1
    },
    {
     "cell_type": "code",
     "collapsed": false,
     "input": [
      "import rospy\n",
      "import cv_bridge\n",
      "from cv_bridge import CvBridge, CvBridgeError\n",
      "import pprint\n",
      "bridge = CvBridge()\n",
      "pp = pprint.PrettyPrinter(indent=4, width=1)\n",
      "\n",
      "import os\n",
      "import sys\n",
      "sys.path.insert(0, '../libraries')\n",
      "\n",
      "import requests\n",
      "\n",
      "import math\n",
      "import copy\n",
      "import csv\n",
      "import time\n",
      "import matplotlib.pyplot as plt\n",
      "import cv2\n",
      "import numpy as np\n",
      "import rospy\n",
      "from geometry_msgs.msg import PoseStamped, Pose, Point, Quaternion\n",
      "\n",
      "import baxter_interface\n",
      "from uogbaxter.detect import detect_toy\n",
      "from baxter_interface import RobotEnable\n",
      "from baxter_interface import CameraController\n",
      "from baxter_interface import Gripper\n",
      "from sensor_msgs.msg import Image, Range\n",
      "from baxter_core_msgs.msg import EndpointState\n",
      "\n",
      "from uogbaxter.baxter import Camera, ArmRangeSensor, ArmWorldPosition, ArmInverseKinematicsSolver\n",
      "\n",
      "pp = pprint.PrettyPrinter(indent=2)\n",
      "\n",
      "PART2_DIR = \"./part_2\"\n",
      "\n",
      "DATA_DIR = '../../data'\n",
      "IMAGE_DIR = os.path.join(DATA_DIR, \"images\")\n"
     ],
     "language": "python",
     "metadata": {},
     "outputs": [],
     "prompt_number": 2
    },
    {
     "cell_type": "code",
     "collapsed": false,
     "input": [
      "ANIMALS = [\"hippo\", \"camel\", \"ostrich\", \"kangaroo\"]\n",
      "ANIMAL_TO_FUNCTION = {}"
     ],
     "language": "python",
     "metadata": {},
     "outputs": [],
     "prompt_number": 3
    },
    {
     "cell_type": "code",
     "collapsed": false,
     "input": [
      "def pick_animal(animal=None):\n",
      "    if animal is None:\n",
      "        return\n",
      "    \n",
      "    def inner(func):\n",
      "        ANIMAL_TO_FUNCTION[animal] = func    \n",
      "        return func\n",
      "    \n",
      "    return inner\n",
      "\n",
      "print(ANIMAL_TO_FUNCTION)"
     ],
     "language": "python",
     "metadata": {},
     "outputs": [
      {
       "output_type": "stream",
       "stream": "stdout",
       "text": [
        "{'hippo': <function pick_hippo at 0x7ff4a4790758>, 'kangaroo': <function pick_kangaroo at 0x7ff4a47907d0>, 'camel': <function pick_camel at 0x7ff4a4790488>, 'ostrich': <function pick_ostrich at 0x7ff4a4790848>}\n"
       ]
      }
     ],
     "prompt_number": 12
    },
    {
     "cell_type": "markdown",
     "metadata": {},
     "source": [
      "### Start up baxter"
     ]
    },
    {
     "cell_type": "code",
     "collapsed": false,
     "input": [
      "def try_float(x):\n",
      "    try:\n",
      "        return float(x)\n",
      "    except ValueError:\n",
      "        return None\n",
      "\n",
      "\n",
      "def clean_line(line, names):\n",
      "    \"\"\"\n",
      "    Cleans a single line of recorded joint positions\n",
      "    @param line: the line described in a list to process\n",
      "    @param names: joint name keys\n",
      "    \"\"\"\n",
      "    #convert the line of strings to a float or None\n",
      "    line = [try_float(x) for x in line.rstrip().split(',')]\n",
      "    #zip the values with the joint names\n",
      "    combined = zip(names[1:], line[1:])\n",
      "    #take out any tuples that have a none value\n",
      "    cleaned = [x for x in combined if x[1] is not None]\n",
      "    #convert it to a dictionary with only valid commands\n",
      "    command = dict(cleaned)\n",
      "    left_command = dict((key, command[key]) for key in command.keys()\n",
      "                        if key[:-2] == 'left_')\n",
      "    right_command = dict((key, command[key]) for key in command.keys()\n",
      "                         if key[:-2] == 'right_')\n",
      "    return (command, left_command, right_command, line)"
     ],
     "language": "python",
     "metadata": {},
     "outputs": [],
     "prompt_number": 5
    },
    {
     "cell_type": "code",
     "collapsed": false,
     "input": [
      "def map_file(filename, loops=1):\n",
      "    \"\"\"\n",
      "    Loops through csv file\n",
      "    @param filename: the file to play\n",
      "    @param loops: number of times to loop\n",
      "                  values < 0 mean 'infinite'\n",
      "    Does not loop indefinitely, but only until the file is read\n",
      "    and processed. Reads each line, split up in columns and\n",
      "    formats each line into a controller command in the form of\n",
      "    name/value pairs. Names come from the column headers\n",
      "    first column is the time stamp\n",
      "    \"\"\"\n",
      "    rate = rospy.Rate(1000)\n",
      "    \n",
      "    if vacuum.error():\n",
      "        vacuum.reset()\n",
      "    if fingers.error():\n",
      "        fingers.reset()\n",
      "    if (not vacuum.calibrated() and\n",
      "        vacuum.type() != 'custom'):\n",
      "        vacuum.calibrate()\n",
      "    if (not fingers.calibrated() and\n",
      "        fingers.type() != 'custom'):\n",
      "        fingers.calibrate()\n",
      "\n",
      "\n",
      "    print(\"Playing back: %s\" % (filename,))\n",
      "    with open(filename, 'r') as f:\n",
      "        lines = f.readlines()\n",
      "    keys = lines[0].rstrip().split(',')\n",
      "\n",
      "    l = 0\n",
      "    # If specified, repeat the file playback 'loops' number of times\n",
      "    while loops < 1 or l < loops:\n",
      "        i = 0\n",
      "        l += 1\n",
      "        print(\"Moving to start position...\")\n",
      "\n",
      "        _cmd, lcmd_start, rcmd_start, _raw = clean_line(lines[1], keys)\n",
      "        arm_left.move_to_joint_positions(lcmd_start)\n",
      "        arm_right.move_to_joint_positions(rcmd_start)\n",
      "        start_time = rospy.get_time()\n",
      "        for values in lines[1:]:\n",
      "            i += 1\n",
      "            loopstr = str(loops) if loops > 0 else \"forever\"\n",
      "            sys.stdout.write(\"\\r Record %d of %d, loop %d of %s\" %\n",
      "                             (i, len(lines) - 1, l, loopstr))\n",
      "            sys.stdout.flush()\n",
      "\n",
      "            cmd, lcmd, rcmd, values = clean_line(values, keys)\n",
      "            \n",
      "            \n",
      "            while (rospy.get_time() - start_time) < values[0]:\n",
      "                if rospy.is_shutdown():\n",
      "                    print(\"\\n Aborting - ROS shutdown\")\n",
      "                    return False\n",
      "                if len(lcmd):\n",
      "                    arm_left.set_joint_positions(lcmd)\n",
      "                if len(rcmd):\n",
      "                    arm_right.set_joint_positions(rcmd)\n",
      "                if ('left_gripper' in cmd and\n",
      "                    vacuum.type() != 'custom'):\n",
      "                    vacuum.command_position(cmd['left_gripper'])\n",
      "                if ('right_gripper' in cmd and\n",
      "                    fingers.type() != 'custom'):\n",
      "                    fingers.command_position(cmd['right_gripper'])\n",
      "                rate.sleep()\n",
      "                \n",
      "        print\n",
      "    return True\n"
     ],
     "language": "python",
     "metadata": {},
     "outputs": [],
     "prompt_number": 6
    },
    {
     "cell_type": "code",
     "collapsed": false,
     "input": [
      "rospy.init_node('uogbaxter_demo')\n",
      "baxter = RobotEnable()\n",
      "baxter.enable()"
     ],
     "language": "python",
     "metadata": {},
     "outputs": [
      {
       "output_type": "stream",
       "stream": "stdout",
       "text": [
        "[INFO] [WallTime: 1574897238.317823] Robot Enabled\n"
       ]
      }
     ],
     "prompt_number": 7
    },
    {
     "cell_type": "markdown",
     "metadata": {},
     "source": [
      "### Set up python objects to interacting with Baxter"
     ]
    },
    {
     "cell_type": "code",
     "collapsed": false,
     "input": [
      "arm_right = baxter_interface.Limb('right')\n",
      "arm_left = baxter_interface.Limb('left')\n",
      "\n",
      "position_right = ArmWorldPosition('right')\n",
      "position_left = ArmWorldPosition('left')\n",
      "\n",
      "ik_solver_right = ArmInverseKinematicsSolver('right')\n",
      "ik_solver_left = ArmInverseKinematicsSolver('left')\n",
      "\n",
      "fingers = Gripper('right')\n",
      "vacuum = Gripper('left')\n",
      "vacuum_sensor = baxter_interface.AnalogIO('left_vacuum_sensor_analog')\n",
      "\n",
      "camera_right_side = Camera('right')\n",
      "camera_left_side = Camera('left')\n",
      "\n",
      "range_right = ArmRangeSensor('right')\n",
      "range_left = ArmRangeSensor('left')\n"
     ],
     "language": "python",
     "metadata": {},
     "outputs": [],
     "prompt_number": 8
    },
    {
     "cell_type": "code",
     "collapsed": false,
     "input": [
      "@pick_animal(\"hippo\")\n",
      "def pick_hippo():\n",
      "    map_file(\"./part_2/get_hippo\")\n",
      "\n",
      "@pick_animal(\"ostrich\")\n",
      "def pick_ostrich():\n",
      "    map_file(\"./part_2/get_ostrich\")\n",
      "\n",
      "@pick_animal(\"kangaroo\")\n",
      "def pick_kangaroo():\n",
      "    map_file(\"./part_2/get_kangaroo\")\n",
      "\n",
      "@pick_animal(\"camel\")\n",
      "def pick_camel():\n",
      "    map_file(\"./part_2/get_camel\")\n",
      "\n",
      "def drop_animal():\n",
      "    map_file(\"./part_2/drop_animal\")\n",
      "\n",
      "def bring_back():\n",
      "    map_file(\"./part_2/bring_back\")"
     ],
     "language": "python",
     "metadata": {},
     "outputs": [],
     "prompt_number": 9
    },
    {
     "cell_type": "markdown",
     "metadata": {},
     "source": [
      "### Ask User for Input and Pick the Animal\n"
     ]
    },
    {
     "cell_type": "code",
     "collapsed": false,
     "input": [
      "picking_animals = []\n",
      "animal_to_pick = raw_input()\n",
      "\n",
      "while(len(picking_animals) < 2):\n",
      "    if animal_to_pick not in picking_animals and animal_to_pick in ANIMALS:\n",
      "        picking_animals.append(animal_to_pick)\n",
      "    else:\n",
      "        print(\"Please enter an animal to pick\")\n",
      "        animal_to_pick = raw_input()\n",
      "\n",
      "print(picking_animals)\n",
      "        \n",
      "for animal in picking_animals:\n",
      "    ANIMAL_TO_FUNCTION[animal_to_pick]()\n",
      "    drop_animal()\n",
      "    bring_back()"
     ],
     "language": "python",
     "metadata": {},
     "outputs": [
      {
       "name": "stdout",
       "output_type": "stream",
       "stream": "stdout",
       "text": [
        "hippo\n"
       ]
      },
      {
       "output_type": "stream",
       "stream": "stdout",
       "text": [
        "Please enter an animal to pick\n"
       ]
      },
      {
       "name": "stdout",
       "output_type": "stream",
       "stream": "stdout",
       "text": [
        "hippo\n"
       ]
      },
      {
       "output_type": "stream",
       "stream": "stdout",
       "text": [
        "Please enter an animal to pick\n"
       ]
      },
      {
       "name": "stdout",
       "output_type": "stream",
       "stream": "stdout",
       "text": [
        "hippo\n"
       ]
      },
      {
       "output_type": "stream",
       "stream": "stdout",
       "text": [
        "Please enter an animal to pick\n"
       ]
      },
      {
       "name": "stdout",
       "output_type": "stream",
       "stream": "stdout",
       "text": [
        "kangaroo\n"
       ]
      },
      {
       "ename": "KeyboardInterrupt",
       "evalue": "",
       "output_type": "pyerr",
       "traceback": [
        "\u001b[0;31m---------------------------------------------------------------------------\u001b[0m\n\u001b[0;31mKeyboardInterrupt\u001b[0m                         Traceback (most recent call last)",
        "\u001b[0;32m<ipython-input-21-f3ff312e749a>\u001b[0m in \u001b[0;36m<module>\u001b[0;34m()\u001b[0m\n\u001b[1;32m     12\u001b[0m \u001b[0;34m\u001b[0m\u001b[0m\n\u001b[1;32m     13\u001b[0m \u001b[0;32mfor\u001b[0m \u001b[0manimal\u001b[0m \u001b[0;32min\u001b[0m \u001b[0mpicking_animals\u001b[0m\u001b[0;34m:\u001b[0m\u001b[0;34m\u001b[0m\u001b[0m\n\u001b[0;32m---> 14\u001b[0;31m     \u001b[0mANIMAL_TO_FUNCTION\u001b[0m\u001b[0;34m[\u001b[0m\u001b[0manimal_to_pick\u001b[0m\u001b[0;34m]\u001b[0m\u001b[0;34m(\u001b[0m\u001b[0;34m)\u001b[0m\u001b[0;34m\u001b[0m\u001b[0m\n\u001b[0m\u001b[1;32m     15\u001b[0m     \u001b[0mdrop_animal\u001b[0m\u001b[0;34m(\u001b[0m\u001b[0;34m)\u001b[0m\u001b[0;34m\u001b[0m\u001b[0m\n\u001b[1;32m     16\u001b[0m     \u001b[0mbring_back\u001b[0m\u001b[0;34m(\u001b[0m\u001b[0;34m)\u001b[0m\u001b[0;34m\u001b[0m\u001b[0m\n",
        "\u001b[0;32m<ipython-input-9-893d514f4359>\u001b[0m in \u001b[0;36mpick_kangaroo\u001b[0;34m()\u001b[0m\n\u001b[1;32m      9\u001b[0m \u001b[0;34m@\u001b[0m\u001b[0mpick_animal\u001b[0m\u001b[0;34m(\u001b[0m\u001b[0;34m\"kangaroo\"\u001b[0m\u001b[0;34m)\u001b[0m\u001b[0;34m\u001b[0m\u001b[0m\n\u001b[1;32m     10\u001b[0m \u001b[0;32mdef\u001b[0m \u001b[0mpick_kangaroo\u001b[0m\u001b[0;34m(\u001b[0m\u001b[0;34m)\u001b[0m\u001b[0;34m:\u001b[0m\u001b[0;34m\u001b[0m\u001b[0m\n\u001b[0;32m---> 11\u001b[0;31m     \u001b[0mmap_file\u001b[0m\u001b[0;34m(\u001b[0m\u001b[0;34m\"./part_2/get_kangaroo\"\u001b[0m\u001b[0;34m)\u001b[0m\u001b[0;34m\u001b[0m\u001b[0m\n\u001b[0m\u001b[1;32m     12\u001b[0m \u001b[0;34m\u001b[0m\u001b[0m\n\u001b[1;32m     13\u001b[0m \u001b[0;34m@\u001b[0m\u001b[0mpick_animal\u001b[0m\u001b[0;34m(\u001b[0m\u001b[0;34m\"camel\"\u001b[0m\u001b[0;34m)\u001b[0m\u001b[0;34m\u001b[0m\u001b[0m\n",
        "\u001b[0;32m<ipython-input-6-7045408dcbae>\u001b[0m in \u001b[0;36mmap_file\u001b[0;34m(filename, loops)\u001b[0m\n\u001b[1;32m     39\u001b[0m         \u001b[0m_cmd\u001b[0m\u001b[0;34m,\u001b[0m \u001b[0mlcmd_start\u001b[0m\u001b[0;34m,\u001b[0m \u001b[0mrcmd_start\u001b[0m\u001b[0;34m,\u001b[0m \u001b[0m_raw\u001b[0m \u001b[0;34m=\u001b[0m \u001b[0mclean_line\u001b[0m\u001b[0;34m(\u001b[0m\u001b[0mlines\u001b[0m\u001b[0;34m[\u001b[0m\u001b[0;36m1\u001b[0m\u001b[0;34m]\u001b[0m\u001b[0;34m,\u001b[0m \u001b[0mkeys\u001b[0m\u001b[0;34m)\u001b[0m\u001b[0;34m\u001b[0m\u001b[0m\n\u001b[1;32m     40\u001b[0m         \u001b[0marm_left\u001b[0m\u001b[0;34m.\u001b[0m\u001b[0mmove_to_joint_positions\u001b[0m\u001b[0;34m(\u001b[0m\u001b[0mlcmd_start\u001b[0m\u001b[0;34m)\u001b[0m\u001b[0;34m\u001b[0m\u001b[0m\n\u001b[0;32m---> 41\u001b[0;31m         \u001b[0marm_right\u001b[0m\u001b[0;34m.\u001b[0m\u001b[0mmove_to_joint_positions\u001b[0m\u001b[0;34m(\u001b[0m\u001b[0mrcmd_start\u001b[0m\u001b[0;34m)\u001b[0m\u001b[0;34m\u001b[0m\u001b[0m\n\u001b[0m\u001b[1;32m     42\u001b[0m         \u001b[0mstart_time\u001b[0m \u001b[0;34m=\u001b[0m \u001b[0mrospy\u001b[0m\u001b[0;34m.\u001b[0m\u001b[0mget_time\u001b[0m\u001b[0;34m(\u001b[0m\u001b[0;34m)\u001b[0m\u001b[0;34m\u001b[0m\u001b[0m\n\u001b[1;32m     43\u001b[0m         \u001b[0;32mfor\u001b[0m \u001b[0mvalues\u001b[0m \u001b[0;32min\u001b[0m \u001b[0mlines\u001b[0m\u001b[0;34m[\u001b[0m\u001b[0;36m1\u001b[0m\u001b[0;34m:\u001b[0m\u001b[0;34m]\u001b[0m\u001b[0;34m:\u001b[0m\u001b[0;34m\u001b[0m\u001b[0m\n",
        "\u001b[0;32m/home/group10/Baxter/ros_ws/src/baxter_interface/src/baxter_interface/limb.pyc\u001b[0m in \u001b[0;36mmove_to_joint_positions\u001b[0;34m(self, positions, timeout, threshold, test)\u001b[0m\n\u001b[1;32m    447\u001b[0m             \u001b[0mrate\u001b[0m\u001b[0;34m=\u001b[0m\u001b[0;36m100\u001b[0m\u001b[0;34m,\u001b[0m\u001b[0;34m\u001b[0m\u001b[0m\n\u001b[1;32m    448\u001b[0m             \u001b[0mraise_on_error\u001b[0m\u001b[0;34m=\u001b[0m\u001b[0mFalse\u001b[0m\u001b[0;34m,\u001b[0m\u001b[0;34m\u001b[0m\u001b[0m\n\u001b[0;32m--> 449\u001b[0;31m             \u001b[0mbody\u001b[0m\u001b[0;34m=\u001b[0m\u001b[0;32mlambda\u001b[0m\u001b[0;34m:\u001b[0m \u001b[0mself\u001b[0m\u001b[0;34m.\u001b[0m\u001b[0mset_joint_positions\u001b[0m\u001b[0;34m(\u001b[0m\u001b[0mfiltered_cmd\u001b[0m\u001b[0;34m(\u001b[0m\u001b[0;34m)\u001b[0m\u001b[0;34m)\u001b[0m\u001b[0;34m\u001b[0m\u001b[0m\n\u001b[0m\u001b[1;32m    450\u001b[0m             )\n",
        "\u001b[0;32m/home/group10/Baxter/ros_ws/src/baxter_interface/src/baxter_dataflow/wait_for.pyc\u001b[0m in \u001b[0;36mwait_for\u001b[0;34m(test, timeout, raise_on_error, rate, timeout_msg, body)\u001b[0m\n\u001b[1;32m     57\u001b[0m         \u001b[0;32mif\u001b[0m \u001b[0mcallable\u001b[0m\u001b[0;34m(\u001b[0m\u001b[0mbody\u001b[0m\u001b[0;34m)\u001b[0m\u001b[0;34m:\u001b[0m\u001b[0;34m\u001b[0m\u001b[0m\n\u001b[1;32m     58\u001b[0m             \u001b[0mbody\u001b[0m\u001b[0;34m(\u001b[0m\u001b[0;34m)\u001b[0m\u001b[0;34m\u001b[0m\u001b[0m\n\u001b[0;32m---> 59\u001b[0;31m         \u001b[0mrate\u001b[0m\u001b[0;34m.\u001b[0m\u001b[0msleep\u001b[0m\u001b[0;34m(\u001b[0m\u001b[0;34m)\u001b[0m\u001b[0;34m\u001b[0m\u001b[0m\n\u001b[0m\u001b[1;32m     60\u001b[0m     \u001b[0;32mreturn\u001b[0m \u001b[0mTrue\u001b[0m\u001b[0;34m\u001b[0m\u001b[0m\n",
        "\u001b[0;32m/opt/ros/indigo/lib/python2.7/dist-packages/rospy/timer.pyc\u001b[0m in \u001b[0;36msleep\u001b[0;34m(self)\u001b[0m\n\u001b[1;32m     97\u001b[0m         \"\"\"\n\u001b[1;32m     98\u001b[0m         \u001b[0mcurr_time\u001b[0m \u001b[0;34m=\u001b[0m \u001b[0mrospy\u001b[0m\u001b[0;34m.\u001b[0m\u001b[0mrostime\u001b[0m\u001b[0;34m.\u001b[0m\u001b[0mget_rostime\u001b[0m\u001b[0;34m(\u001b[0m\u001b[0;34m)\u001b[0m\u001b[0;34m\u001b[0m\u001b[0m\n\u001b[0;32m---> 99\u001b[0;31m         \u001b[0msleep\u001b[0m\u001b[0;34m(\u001b[0m\u001b[0mself\u001b[0m\u001b[0;34m.\u001b[0m\u001b[0m_remaining\u001b[0m\u001b[0;34m(\u001b[0m\u001b[0mcurr_time\u001b[0m\u001b[0;34m)\u001b[0m\u001b[0;34m)\u001b[0m\u001b[0;34m\u001b[0m\u001b[0m\n\u001b[0m\u001b[1;32m    100\u001b[0m         \u001b[0mself\u001b[0m\u001b[0;34m.\u001b[0m\u001b[0mlast_time\u001b[0m \u001b[0;34m=\u001b[0m \u001b[0mself\u001b[0m\u001b[0;34m.\u001b[0m\u001b[0mlast_time\u001b[0m \u001b[0;34m+\u001b[0m \u001b[0mself\u001b[0m\u001b[0;34m.\u001b[0m\u001b[0msleep_dur\u001b[0m\u001b[0;34m\u001b[0m\u001b[0m\n\u001b[1;32m    101\u001b[0m \u001b[0;34m\u001b[0m\u001b[0m\n",
        "\u001b[0;32m/opt/ros/indigo/lib/python2.7/dist-packages/rospy/timer.pyc\u001b[0m in \u001b[0;36msleep\u001b[0;34m(duration)\u001b[0m\n\u001b[1;32m    123\u001b[0m             \u001b[0;32mreturn\u001b[0m\u001b[0;34m\u001b[0m\u001b[0m\n\u001b[1;32m    124\u001b[0m         \u001b[0;32melse\u001b[0m\u001b[0;34m:\u001b[0m\u001b[0;34m\u001b[0m\u001b[0m\n\u001b[0;32m--> 125\u001b[0;31m             \u001b[0mrospy\u001b[0m\u001b[0;34m.\u001b[0m\u001b[0mrostime\u001b[0m\u001b[0;34m.\u001b[0m\u001b[0mwallsleep\u001b[0m\u001b[0;34m(\u001b[0m\u001b[0mduration\u001b[0m\u001b[0;34m)\u001b[0m\u001b[0;34m\u001b[0m\u001b[0m\n\u001b[0m\u001b[1;32m    126\u001b[0m     \u001b[0;32melse\u001b[0m\u001b[0;34m:\u001b[0m\u001b[0;34m\u001b[0m\u001b[0m\n\u001b[1;32m    127\u001b[0m         \u001b[0minitial_rostime\u001b[0m \u001b[0;34m=\u001b[0m \u001b[0mrospy\u001b[0m\u001b[0;34m.\u001b[0m\u001b[0mrostime\u001b[0m\u001b[0;34m.\u001b[0m\u001b[0mget_rostime\u001b[0m\u001b[0;34m(\u001b[0m\u001b[0;34m)\u001b[0m\u001b[0;34m\u001b[0m\u001b[0m\n",
        "\u001b[0;32m/opt/ros/indigo/lib/python2.7/dist-packages/rospy/rostime.pyc\u001b[0m in \u001b[0;36mwallsleep\u001b[0;34m(duration)\u001b[0m\n\u001b[1;32m    294\u001b[0m             \u001b[0;32mpass\u001b[0m\u001b[0;34m\u001b[0m\u001b[0m\n\u001b[1;32m    295\u001b[0m     \u001b[0;32melse\u001b[0m\u001b[0;34m:\u001b[0m\u001b[0;34m\u001b[0m\u001b[0m\n\u001b[0;32m--> 296\u001b[0;31m         \u001b[0mtime\u001b[0m\u001b[0;34m.\u001b[0m\u001b[0msleep\u001b[0m\u001b[0;34m(\u001b[0m\u001b[0mduration\u001b[0m\u001b[0;34m)\u001b[0m\u001b[0;34m\u001b[0m\u001b[0m\n\u001b[0m",
        "\u001b[0;31mKeyboardInterrupt\u001b[0m: "
       ]
      },
      {
       "output_type": "stream",
       "stream": "stdout",
       "text": [
        "['hippo', 'kangaroo']\n",
        "Playing back: ./part_2/get_kangaroo\n",
        "Moving to start position...\n"
       ]
      }
     ],
     "prompt_number": 21
    },
    {
     "cell_type": "code",
     "collapsed": false,
     "input": [
      "baxter.disable()"
     ],
     "language": "python",
     "metadata": {},
     "outputs": [
      {
       "output_type": "stream",
       "stream": "stdout",
       "text": [
        "[INFO] [WallTime: 1574897116.857450] Robot Disabled\n"
       ]
      }
     ],
     "prompt_number": 41
    },
    {
     "cell_type": "code",
     "collapsed": false,
     "input": [],
     "language": "python",
     "metadata": {},
     "outputs": []
    }
   ],
   "metadata": {}
  }
 ]
}