{
 "metadata": {
  "name": ""
 },
 "nbformat": 3,
 "nbformat_minor": 0,
 "worksheets": [
  {
   "cells": [
    {
     "cell_type": "markdown",
     "metadata": {},
     "source": [
      "# Baxter Introduction\n",
      "\n",
      "Learn how to move the baxter in joint space (forward kinematics) and how to operate its two finger and vacuum grippers.\n",
      "\n",
      "##### ENGG 4460 University of Guelph, Patrick Wspanialy"
     ]
    },
    {
     "cell_type": "markdown",
     "metadata": {},
     "source": [
      "Before you start working with Baxter and this notebook, make sure you launched the notebook from a `Baxter shell`.\n",
      "\n",
      "You can start a Baxter shell by entering the following command into a `Terminal`.\n",
      "\n",
      "    bash --rcfile ~/.bashrc.baxter \n",
      "    \n",
      "Then close this window and rerun `ipython notebook` in the new `Baxter shell` you just created."
     ]
    },
    {
     "cell_type": "markdown",
     "metadata": {},
     "source": [
      "Import python modules needed to control Baxter"
     ]
    },
    {
     "cell_type": "code",
     "collapsed": false,
     "input": [
      "import pprint\n",
      "import math\n",
      "import rospy\n",
      "import baxter_interface\n",
      "from baxter_interface import RobotEnable\n",
      "from baxter_interface import Gripper\n",
      "pp = pprint.PrettyPrinter(indent=4)"
     ],
     "language": "python",
     "metadata": {},
     "outputs": [],
     "prompt_number": 1
    },
    {
     "cell_type": "markdown",
     "metadata": {},
     "source": [
      "Initialize a new ROS node and name it \"Hello_Baxter\", "
     ]
    },
    {
     "cell_type": "code",
     "collapsed": false,
     "input": [
      "rospy.init_node('Hello_Baxter')"
     ],
     "language": "python",
     "metadata": {},
     "outputs": [],
     "prompt_number": 2
    },
    {
     "cell_type": "markdown",
     "metadata": {},
     "source": [
      "If you didn't run the `rosrun baxter_tools enable_robot.py -e` command, you can also enable baxter directly from Python."
     ]
    },
    {
     "cell_type": "code",
     "collapsed": false,
     "input": [
      "baxter = RobotEnable()\n",
      "baxter.enable()"
     ],
     "language": "python",
     "metadata": {},
     "outputs": [
      {
       "output_type": "stream",
       "stream": "stdout",
       "text": [
        "[INFO] [WallTime: 1574018133.489885] Robot Enabled\n"
       ]
      }
     ],
     "prompt_number": 3
    },
    {
     "cell_type": "markdown",
     "metadata": {},
     "source": [
      "create a new limb objects for each arm, and print out the current limb joint angles"
     ]
    },
    {
     "cell_type": "code",
     "collapsed": false,
     "input": [
      "right_arm = baxter_interface.Limb('right')\n",
      "left_arm = baxter_interface.Limb('left')\n",
      "right_angles = right_arm.joint_angles()\n",
      "left_angles = left_arm.joint_angles()\n",
      "pp.pprint(right_angles)\n",
      "pp.pprint(left_angles)"
     ],
     "language": "python",
     "metadata": {},
     "outputs": [
      {
       "output_type": "stream",
       "stream": "stdout",
       "text": [
        "{   'right_e0': 0.3900146153198664,\n",
        "    'right_e1': 1.6777914867496713,\n",
        "    'right_s0': -0.42683015422911635,\n",
        "    'right_s1': -0.05062136600021865,\n",
        "    'right_w0': 1.1662088939898858,\n",
        "    'right_w1': 1.1332283070503495,\n",
        "    'right_w2': 1.7092380929013222}\n",
        "{   'left_e0': -0.3052621767891973,\n",
        "    'left_e1': 1.3786652331120155,\n",
        "    'left_s0': 0.5576020163963479,\n",
        "    'left_s1': -0.16298545871282522,\n",
        "    'left_w0': 2.0164177456753762,\n",
        "    'left_w1': -1.1884516154142244,\n",
        "    'left_w2': -1.872607046811119}\n"
       ]
      }
     ],
     "prompt_number": 4
    },
    {
     "cell_type": "markdown",
     "metadata": {},
     "source": [
      "Set new angles for the 7 joints of the arm and print them"
     ]
    },
    {
     "cell_type": "code",
     "collapsed": false,
     "input": [
      "right_angles['right_s0']=0.0\n",
      "right_angles['right_s1']=0.0\n",
      "right_angles['right_e0']=0.0\n",
      "right_angles['right_e1']=0.0\n",
      "right_angles['right_w0']=0.0\n",
      "right_angles['right_w1']=0.0\n",
      "right_angles['right_w2']=0.0\n",
      "\n",
      "pp.pprint(right_angles)"
     ],
     "language": "python",
     "metadata": {},
     "outputs": [
      {
       "output_type": "stream",
       "stream": "stdout",
       "text": [
        "{   'right_e0': 0.0,\n",
        "    'right_e1': 0.0,\n",
        "    'right_s0': 0.0,\n",
        "    'right_s1': 0.0,\n",
        "    'right_w0': 0.0,\n",
        "    'right_w1': 0.0,\n",
        "    'right_w2': 0.0}\n"
       ]
      }
     ],
     "prompt_number": 5
    },
    {
     "cell_type": "markdown",
     "metadata": {},
     "source": [
      "[<img src=\"http://sdk.rethinkrobotics.com/mediawiki-1.22.2/images/7/7c/Baxter_arm.png\">]"
     ]
    },
    {
     "cell_type": "markdown",
     "metadata": {},
     "source": [
      "Move the right arm to the set joint angles (this is forward kinematics)"
     ]
    },
    {
     "cell_type": "code",
     "collapsed": false,
     "input": [
      "right_arm.move_to_joint_positions(right_angles)"
     ],
     "language": "python",
     "metadata": {},
     "outputs": [],
     "prompt_number": 19
    },
    {
     "cell_type": "markdown",
     "metadata": {},
     "source": [
      "Get the Cartesian space coordinates of the right hand"
     ]
    },
    {
     "cell_type": "code",
     "collapsed": false,
     "input": [
      "right_pose = right_arm.endpoint_pose()\n",
      "\n",
      "pp.pprint(right_pose['position'])\n",
      "print \"\\n\"\n",
      "pp.pprint(right_pose['orientation'])"
     ],
     "language": "python",
     "metadata": {},
     "outputs": [
      {
       "output_type": "stream",
       "stream": "stdout",
       "text": [
        "Point(x=0.5029119920852231, y=-0.4930575986795694, z=0.6087071595201795)\n",
        "\n",
        "\n",
        "Quaternion(x=-0.009594528737944115, y=0.00048633981522784895, z=0.002228756390531108, w=0.999951369385948)\n"
       ]
      }
     ],
     "prompt_number": 25
    },
    {
     "cell_type": "markdown",
     "metadata": {},
     "source": [
      "Repeat for process for the other arm"
     ]
    },
    {
     "cell_type": "code",
     "collapsed": false,
     "input": [
      "left_angles['left_s0']=0.0\n",
      "left_angles['left_s1']=0.0\n",
      "left_angles['left_e0']=0.0\n",
      "left_angles['left_e1']=0.0\n",
      "left_angles['left_w0']=0.0\n",
      "left_angles['left_w1']=0.0\n",
      "left_angles['left_w2']=0.0\n",
      "\n",
      "pp.pprint(left_angles)\n",
      "\n",
      "\n",
      "left_arm.move_to_joint_positions(left_angles)"
     ],
     "language": "python",
     "metadata": {},
     "outputs": [
      {
       "output_type": "stream",
       "stream": "stdout",
       "text": [
        "{   'left_e0': 0.0,\n",
        "    'left_e1': 0.0,\n",
        "    'left_s0': 0.0,\n",
        "    'left_s1': 0.0,\n",
        "    'left_w0': 0.0,\n",
        "    'left_w1': 0.0,\n",
        "    'left_w2': 0.0}\n"
       ]
      }
     ],
     "prompt_number": 64
    },
    {
     "cell_type": "markdown",
     "metadata": {},
     "source": [
      "Make two new sets of joint angles for the right arm, corresponding to the beginning and end of a waving motion"
     ]
    },
    {
     "cell_type": "code",
     "collapsed": false,
     "input": [
      "wave_1 = {'right_s0': -0.459, 'right_s1': -0.202, 'right_e0': 1.807, 'right_e1': 1.714, 'right_w0': -0.906, 'right_w1': -1.545, 'right_w2': -0.276}\n",
      "wave_2 = {'right_s0': -0.395, 'right_s1': -0.202, 'right_e0': 1.831, 'right_e1': 1.981, 'right_w0': -1.979, 'right_w1': -1.100, 'right_w2': -0.448}"
     ],
     "language": "python",
     "metadata": {},
     "outputs": [],
     "prompt_number": 20
    },
    {
     "cell_type": "markdown",
     "metadata": {},
     "source": [
      "Using a `for loop`, repeat the wave twice"
     ]
    },
    {
     "cell_type": "code",
     "collapsed": false,
     "input": [
      "for _move in range(2):\n",
      "    right_arm.move_to_joint_positions(wave_1)\n",
      "    right_arm.move_to_joint_positions(wave_2)"
     ],
     "language": "python",
     "metadata": {},
     "outputs": [],
     "prompt_number": 21
    },
    {
     "cell_type": "markdown",
     "metadata": {},
     "source": [
      "Initialize Baxter's end effectors. It has a two finger gripper on its right arm, and a vacuum on its left arm."
     ]
    },
    {
     "cell_type": "code",
     "collapsed": false,
     "input": [
      "fingers = Gripper('right')\n",
      "fingers.calibrate()\n",
      "\n",
      "vacuum = Gripper('left')\n",
      "vacuum_sensor = baxter_interface.AnalogIO('left_vacuum_sensor_analog')"
     ],
     "language": "python",
     "metadata": {},
     "outputs": [],
     "prompt_number": 22
    },
    {
     "cell_type": "markdown",
     "metadata": {},
     "source": [
      "Close the two finger gripper"
     ]
    },
    {
     "cell_type": "code",
     "collapsed": false,
     "input": [
      "fingers.close()"
     ],
     "language": "python",
     "metadata": {},
     "outputs": [
      {
       "metadata": {},
       "output_type": "pyout",
       "prompt_number": 13,
       "text": [
        "True"
       ]
      }
     ],
     "prompt_number": 13
    },
    {
     "cell_type": "markdown",
     "metadata": {},
     "source": [
      "Open the two finger gripper"
     ]
    },
    {
     "cell_type": "code",
     "collapsed": false,
     "input": [
      "fingers.open()"
     ],
     "language": "python",
     "metadata": {},
     "outputs": [
      {
       "metadata": {},
       "output_type": "pyout",
       "prompt_number": 14,
       "text": [
        "True"
       ]
      }
     ],
     "prompt_number": 14
    },
    {
     "cell_type": "markdown",
     "metadata": {},
     "source": [
      "Turn on the vacuum and attempt to pick up an object. You can set a `timeout`, which will stop the vacuum if an object hasn't been detected. The default `timeout` value is 5 seconds."
     ]
    },
    {
     "cell_type": "code",
     "collapsed": false,
     "input": [
      "vacuum.close(timeout=6)"
     ],
     "language": "python",
     "metadata": {},
     "outputs": [
      {
       "metadata": {},
       "output_type": "pyout",
       "prompt_number": 15,
       "text": [
        "True"
       ]
      }
     ],
     "prompt_number": 15
    },
    {
     "cell_type": "markdown",
     "metadata": {},
     "source": [
      "Turn off the vacuum and release what it's holding."
     ]
    },
    {
     "cell_type": "code",
     "collapsed": false,
     "input": [
      "vacuum.open()"
     ],
     "language": "python",
     "metadata": {},
     "outputs": [
      {
       "metadata": {},
       "output_type": "pyout",
       "prompt_number": 16,
       "text": [
        "True"
       ]
      }
     ],
     "prompt_number": 16
    },
    {
     "cell_type": "markdown",
     "metadata": {},
     "source": [
      "Check if the vacuum gipper is holding anything."
     ]
    },
    {
     "cell_type": "code",
     "collapsed": false,
     "input": [
      "vacuum_strength = vacuum_sensor.state()\n",
      "if vacuum_strength > 50:\n",
      "   print \"I've got it! :)  [vacuum strength: \" + str(vacuum_strength) + \"]\"\n",
      "else:\n",
      "    print \"I'm not holding anything :(  [vacuum strength: \" + str(vacuum_strength) + \"]\""
     ],
     "language": "python",
     "metadata": {},
     "outputs": [
      {
       "output_type": "stream",
       "stream": "stdout",
       "text": [
        "I'm not holding anything :(  [vacuum strength: 9.0]\n"
       ]
      }
     ],
     "prompt_number": 17
    },
    {
     "cell_type": "markdown",
     "metadata": {},
     "source": [
      "Disable baxter once you're done using him. Make sure to guide his arms into the correct resting position before disabling.\n",
      "\n",
      "This example also shows you how you can define angle positions using degrees, and let python convert it to radians for you using `math.radians()`. You can go the other way when printing out the current position using `math.degrees()`."
     ]
    },
    {
     "cell_type": "code",
     "collapsed": false,
     "input": [
      "right_angles['right_s0'] = math.radians(20)\n",
      "right_angles['right_s1'] = 0.0\n",
      "right_angles['right_e0'] = 0.0\n",
      "right_angles['right_e1'] = 0.0\n",
      "right_angles['right_w0'] = 0.0\n",
      "right_angles['right_w1'] = 0.0\n",
      "right_angles['right_w2'] = 0.0\n",
      "\n",
      "left_angles['left_s0'] = math.radians(-20)\n",
      "left_angles['left_s1'] = 0.0\n",
      "left_angles['left_e0'] = 0.0\n",
      "left_angles['left_e1'] = 0.0\n",
      "left_angles['left_w0'] = 0.0\n",
      "left_angles['left_w1'] = 0.0\n",
      "left_angles['left_w2'] = 0.0\n",
      "\n",
      "right_arm.move_to_joint_positions(right_angles)\n",
      "left_arm.move_to_joint_positions(left_angles)"
     ],
     "language": "python",
     "metadata": {},
     "outputs": [],
     "prompt_number": 65
    },
    {
     "cell_type": "code",
     "collapsed": false,
     "input": [
      "baxter.disable()"
     ],
     "language": "python",
     "metadata": {},
     "outputs": []
    },
    {
     "cell_type": "code",
     "collapsed": false,
     "input": [],
     "language": "python",
     "metadata": {},
     "outputs": []
    }
   ],
   "metadata": {}
  }
 ]
}