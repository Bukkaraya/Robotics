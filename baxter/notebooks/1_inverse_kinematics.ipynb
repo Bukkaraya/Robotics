{
 "metadata": {
  "name": ""
 },
 "nbformat": 3,
 "nbformat_minor": 0,
 "worksheets": [
  {
   "cells": [
    {
     "cell_type": "markdown",
     "metadata": {},
     "source": [
      "# Baxter Inverse Kinematics Introduction\n",
      "\n",
      "Learn how to move the baxter in Cartesian space (inverse kinematics).\n",
      "\n",
      "##### ENGG 4460 University of Guelph, Patrick Wspanialy"
     ]
    },
    {
     "cell_type": "markdown",
     "metadata": {},
     "source": [
      "Import python modules needed to control Baxter"
     ]
    },
    {
     "cell_type": "code",
     "collapsed": false,
     "input": [
      "import pprint\n",
      "import math\n",
      "import rospy\n",
      "import baxter_interface\n",
      "from baxter_interface import (RobotEnable, Gripper)\n",
      "from geometry_msgs.msg import (\n",
      "    PoseStamped,\n",
      "    Pose,\n",
      "    Point,\n",
      "    Quaternion,\n",
      ")\n",
      "from std_msgs.msg import Header\n",
      "from baxter_core_msgs.srv import (\n",
      "    SolvePositionIK,\n",
      "    SolvePositionIKRequest,\n",
      ")\n",
      "pp = pprint.PrettyPrinter(indent=4)"
     ],
     "language": "python",
     "metadata": {},
     "outputs": [],
     "prompt_number": 1
    },
    {
     "cell_type": "markdown",
     "metadata": {},
     "source": [
      "Initialize a new ROS node and connect to the inverse kinematics services for the right and left arms. "
     ]
    },
    {
     "cell_type": "code",
     "collapsed": false,
     "input": [
      "rospy.init_node(\"rsdk_ik_service_client\")\n",
      "\n",
      "right_namespace = \"ExternalTools/right/PositionKinematicsNode/IKService\"\n",
      "left_namespace = \"ExternalTools/left/PositionKinematicsNode/IKService\"\n",
      "\n",
      "right_ik_service = rospy.ServiceProxy(right_namespace, SolvePositionIK)\n",
      "left_ik_service = rospy.ServiceProxy(left_namespace, SolvePositionIK)\n",
      "\n",
      "right_ik_request = SolvePositionIKRequest()\n",
      "left_ik_request = SolvePositionIKRequest()\n",
      "\n",
      "ik_header = Header(stamp=rospy.Time.now(), frame_id='base')"
     ],
     "language": "python",
     "metadata": {},
     "outputs": [],
     "prompt_number": 2
    },
    {
     "cell_type": "markdown",
     "metadata": {},
     "source": [
      "Enable Baxter"
     ]
    },
    {
     "cell_type": "code",
     "collapsed": false,
     "input": [
      "baxter = RobotEnable()\n",
      "baxter.enable()"
     ],
     "language": "python",
     "metadata": {},
     "outputs": [
      {
       "output_type": "stream",
       "stream": "stdout",
       "text": [
        "[INFO] [WallTime: 1574018595.770575] Robot Enabled\n"
       ]
      }
     ],
     "prompt_number": 3
    },
    {
     "cell_type": "markdown",
     "metadata": {},
     "source": [
      "Choose the pose we want the right arm to go to. \n",
      "\n",
      "#### Position\n",
      "- x: in, out. 0 is at the center of Baxter\n",
      "- y: left, right. 0 is at the center of Baxter\n",
      "- z: up, down. 0 is at the table surface (don't assign z to be less than 0)\n",
      "\n",
      "#### Orientation\n",
      "https://en.wikipedia.org/wiki/Quaternions_and_spatial_rotation\n",
      "\n",
      "\n",
      "| x  | y  | z  |  w | description  |\n",
      "|---|---|---|---|---|\n",
      "| 0  | 0  | 0  | 1  | neutral position, no rotations applied  |\n",
      "| 1  | 0  | 0  | 0  | 180\u00b0 turn around X axis |\n",
      "| 0  | 1  | 0  | 0  | 180\u00b0 turn around Y axis  |\n",
      "| 0  | 0  | 1  | 0  | 180\u00b0 turn around Z axis  |\n",
      "| math.sqrt(0.5)  | 0  | 0  | math.sqrt(0.5)  | 90\u00b0 rotation around X axis  |\n",
      "| 0  | math.sqrt(0.5)  | 0 | math.sqrt(0.5)  | 90\u00b0 rotation around Y axis  |\n",
      "| 0  | 0  | math.sqrt(0.5)  | math.sqrt(0.5)  | 90\u00b0 rotation around Z axis  |\n",
      "| -math.sqrt(0.5)  | 0  | 0  | math.sqrt(0.5)  | -90\u00b0 rotation around X axis  |\n",
      "| 0  | -math.sqrt(0.5)  | 0  | math.sqrt(0.5)  | -90\u00b0 rotation around Y axis  |\n",
      "| 0  | 0  |  -math.sqrt(0.5) | math.sqrt(0.5)  | -90\u00b0 rotation around Z axis  |\n",
      "\n"
     ]
    },
    {
     "cell_type": "code",
     "collapsed": false,
     "input": [
      "right_pose = PoseStamped(\n",
      "            header=ik_header,\n",
      "            pose=Pose(\n",
      "                position=Point(\n",
      "                    x=0.5,\n",
      "                    y=-0.5,\n",
      "                    z=0.6,\n",
      "                ),\n",
      "                orientation=Quaternion(\n",
      "                    x=0.0,\n",
      "                    y=0.0,\n",
      "                    z=0.0,\n",
      "                    w=1.0,\n",
      "                ),\n",
      "            ),\n",
      "        )"
     ],
     "language": "python",
     "metadata": {},
     "outputs": [],
     "prompt_number": 4
    },
    {
     "cell_type": "markdown",
     "metadata": {},
     "source": [
      "Store our pose into our request variable."
     ]
    },
    {
     "cell_type": "code",
     "collapsed": false,
     "input": [
      "right_ik_request.pose_stamp[:] = []\n",
      "right_ik_request.pose_stamp.append(right_pose)\n",
      "\n",
      "print right_ik_request.pose_stamp"
     ],
     "language": "python",
     "metadata": {},
     "outputs": [
      {
       "output_type": "stream",
       "stream": "stdout",
       "text": [
        "[header: \n",
        "  seq: 0\n",
        "  stamp: \n",
        "    secs: 1574018591\n",
        "    nsecs: 601950883\n",
        "  frame_id: base\n",
        "pose: \n",
        "  position: \n",
        "    x: 0.5\n",
        "    y: -0.5\n",
        "    z: 0.6\n",
        "  orientation: \n",
        "    x: 0.0\n",
        "    y: 0.0\n",
        "    z: 0.0\n",
        "    w: 1.0]\n"
       ]
      }
     ],
     "prompt_number": 5
    },
    {
     "cell_type": "markdown",
     "metadata": {},
     "source": [
      "Try to get a joint solution to the pose we defined using the inverse kinematics engine running in Baxter."
     ]
    },
    {
     "cell_type": "code",
     "collapsed": false,
     "input": [
      "try:\n",
      "    rospy.wait_for_service(right_namespace, 5.0)\n",
      "    right_ik_response = right_ik_service(right_ik_request)\n",
      "    if (right_ik_response.isValid[0]):\n",
      "        right_limb_joints = dict(zip(right_ik_response.joints[0].name, right_ik_response.joints[0].position))\n",
      "        pp.pprint(right_limb_joints)\n",
      "    else:\n",
      "        print(\"INVALID POSE - No Valid Joint Solution Found.\")\n",
      "except (rospy.ServiceException, rospy.ROSException), e:\n",
      "    rospy.logerr(\"Service call failed: %s\" % (e,))"
     ],
     "language": "python",
     "metadata": {},
     "outputs": [
      {
       "output_type": "stream",
       "stream": "stdout",
       "text": [
        "{   'right_e0': 1.4856222450602123,\n",
        "    'right_e1': 1.865947252176335,\n",
        "    'right_s0': -0.7417158383943715,\n",
        "    'right_s1': 0.5896829536264229,\n",
        "    'right_w0': -2.1526811273144184,\n",
        "    'right_w1': -1.47079632679,\n",
        "    'right_w2': -0.3348689769787978}\n"
       ]
      }
     ],
     "prompt_number": 6
    },
    {
     "cell_type": "markdown",
     "metadata": {},
     "source": [
      "If a joint solution to our pose exists, we can move the the joints positions the IK engine generated."
     ]
    },
    {
     "cell_type": "code",
     "collapsed": false,
     "input": [
      "right_arm = baxter_interface.Limb('right')\n",
      "right_arm.move_to_joint_positions(right_limb_joints)"
     ],
     "language": "python",
     "metadata": {},
     "outputs": [],
     "prompt_number": 7
    },
    {
     "cell_type": "markdown",
     "metadata": {},
     "source": [
      "Let's print out the joint positions, along with the Cartesian position and Quaternion orientation"
     ]
    },
    {
     "cell_type": "code",
     "collapsed": false,
     "input": [
      "right_angles = right_arm.joint_angles()\n",
      "right_pose = right_arm.endpoint_pose()\n",
      "pp.pprint(right_angles)\n",
      "print \"\\n\"\n",
      "pp.pprint(right_pose['position'])\n",
      "pp.pprint(right_pose['orientation'])\n"
     ],
     "language": "python",
     "metadata": {},
     "outputs": [
      {
       "output_type": "stream",
       "stream": "stdout",
       "text": [
        "{   'right_e0': 1.4956312681882784,\n",
        "    'right_e1': 1.8691555900383767,\n",
        "    'right_s0': -0.7305583502304283,\n",
        "    'right_s1': 0.5706408530933739,\n",
        "    'right_w0': -2.1464226174486654,\n",
        "    'right_w1': -1.462650681248742,\n",
        "    'right_w2': -0.3378592685317624}\n",
        "\n",
        "\n",
        "Point(x=0.5024880163093813, y=-0.4938987806772989, z=0.6078996915286529)\n",
        "Quaternion(x=-0.007608770476974576, y=-0.0005718555321138437, z=0.002921095073657104, w=0.9999666228413076)\n"
       ]
      }
     ],
     "prompt_number": 8
    },
    {
     "cell_type": "code",
     "collapsed": false,
     "input": [],
     "language": "python",
     "metadata": {},
     "outputs": []
    }
   ],
   "metadata": {}
  }
 ]
}