{
 "metadata": {
  "name": ""
 },
 "nbformat": 3,
 "nbformat_minor": 0,
 "worksheets": [
  {
   "cells": [
    {
     "cell_type": "markdown",
     "metadata": {},
     "source": [
      "# `uogbaxter` library demo\n",
      "\n",
      "See how to use the `uogbaxter` library to perform high-level functions with Baxter. \n",
      "\n",
      "##### ENGG 4460 University of Guelph, Patrick Wspanialy"
     ]
    },
    {
     "cell_type": "markdown",
     "metadata": {},
     "source": [
      "Notebook settings to configure how images are displayed and to automatically reload code if changed in libraries"
     ]
    },
    {
     "cell_type": "code",
     "collapsed": false,
     "input": [
      "%matplotlib inline\n",
      "%config IPCompleter.greedy=True\n",
      "%reload_ext autoreload\n",
      "%autoreload 2"
     ],
     "language": "python",
     "metadata": {},
     "outputs": [],
     "prompt_number": 1
    },
    {
     "cell_type": "code",
     "collapsed": false,
     "input": [
      "import rospy\n",
      "import cv_bridge\n",
      "from cv_bridge import CvBridge, CvBridgeError\n",
      "import pprint\n",
      "bridge = CvBridge()\n",
      "pp = pprint.PrettyPrinter(indent=4, width=1)\n",
      "\n",
      "import os\n",
      "import sys\n",
      "sys.path.insert(0, '../libraries')\n",
      "\n",
      "import requests\n",
      "\n",
      "import math\n",
      "import copy\n",
      "import csv\n",
      "import time\n",
      "import matplotlib.pyplot as plt\n",
      "import cv2\n",
      "import numpy as np\n",
      "import rospy\n",
      "from geometry_msgs.msg import PoseStamped, Pose, Point, Quaternion\n",
      "import time\n",
      "\n",
      "import baxter_interface\n",
      "from uogbaxter.detect import detect_toy\n",
      "from baxter_interface import RobotEnable\n",
      "from baxter_interface import CameraController\n",
      "from baxter_interface import Gripper\n",
      "from sensor_msgs.msg import Image, Range\n",
      "from baxter_core_msgs.msg import EndpointState\n",
      "\n",
      "from uogbaxter.baxter import Camera, ArmRangeSensor, ArmWorldPosition, ArmInverseKinematicsSolver\n",
      "\n",
      "pp = pprint.PrettyPrinter(indent=2)\n",
      "\n",
      "PART3_DIR = \"./part_3\"\n",
      "\n",
      "DATA_DIR = '../../data'\n",
      "IMAGE_DIR = os.path.join(DATA_DIR, \"images\")\n"
     ],
     "language": "python",
     "metadata": {},
     "outputs": [],
     "prompt_number": 29
    },
    {
     "cell_type": "code",
     "collapsed": false,
     "input": [
      "pose_list = []"
     ],
     "language": "python",
     "metadata": {},
     "outputs": [],
     "prompt_number": 3
    },
    {
     "cell_type": "markdown",
     "metadata": {},
     "source": [
      "### Start up baxter"
     ]
    },
    {
     "cell_type": "code",
     "collapsed": false,
     "input": [
      "def detect_hippo():\n",
      "    image = camera_right_side.image\n",
      "    cv2.imwrite(os.path.join(IMAGE_DIR, \"image_{}.jpg\".format('test')), image)\n",
      "    \n",
      "    #get the image\n",
      "    example_image = cv2.imread('../../data/images/image_test.jpg')\n",
      "    plt.imshow(cv2.cvtColor(example_image, cv2.COLOR_BGR2RGB))\n",
      "    \n",
      "    #detect the image\n",
      "    detection = detect_toy(example_image)\n",
      "    print(detection)\n",
      "    # define colors. in opencv, colors are ordered in BGR *not* RGB\n",
      "    if(detection != None):\n",
      "        \n",
      "        red = (0, 0, 255)\n",
      "        green = (0, 255, 0)\n",
      "        blue = (255, 0, 0)\n",
      "        yellow = (0, 255, 255)\n",
      "        \n",
      "        # draw center point in red\n",
      "        cv2.circle(example_image, detection.get('center'), radius=10, color=red, thickness=10)\n",
      "        \n",
      "        # draw minimum bounding rectangle in green\n",
      "        cv2.drawContours(example_image, [np.intp(detection.get('min_rectangle'))], contourIdx=-1, color=green, thickness=5)\n",
      "        \n",
      "        # display image. to show correct colors you have to convert from BGR to RGB\n",
      "        plt.imshow(cv2.cvtColor(example_image, cv2.COLOR_BGR2RGB))\n",
      "        return detection\n",
      "    else:\n",
      "        print(\"no detection happened\");\n",
      "        return None"
     ],
     "language": "python",
     "metadata": {},
     "outputs": [],
     "prompt_number": 34
    },
    {
     "cell_type": "code",
     "collapsed": false,
     "input": [
      "poses = []"
     ],
     "language": "python",
     "metadata": {},
     "outputs": [],
     "prompt_number": 5
    },
    {
     "cell_type": "code",
     "collapsed": false,
     "input": [
      "\n"
     ],
     "language": "python",
     "metadata": {},
     "outputs": [],
     "prompt_number": 5
    },
    {
     "cell_type": "code",
     "collapsed": false,
     "input": [
      "rospy.init_node('uogbaxter_demo')\n",
      "baxter = RobotEnable()\n",
      "baxter.enable()"
     ],
     "language": "python",
     "metadata": {},
     "outputs": [
      {
       "output_type": "stream",
       "stream": "stdout",
       "text": [
        "[INFO] [WallTime: 1574975299.412661] Robot Enabled\n"
       ]
      }
     ],
     "prompt_number": 6
    },
    {
     "cell_type": "markdown",
     "metadata": {},
     "source": [
      "### Set up python objects to interacting with Baxter"
     ]
    },
    {
     "cell_type": "code",
     "collapsed": false,
     "input": [
      "arm_right = baxter_interface.Limb('right')\n",
      "arm_left = baxter_interface.Limb('left')\n",
      "\n",
      "position_right = ArmWorldPosition('right')\n",
      "position_left = ArmWorldPosition('left')\n",
      "\n",
      "ik_solver_right = ArmInverseKinematicsSolver('right')\n",
      "ik_solver_left = ArmInverseKinematicsSolver('left')\n",
      "\n",
      "fingers = Gripper('right')\n",
      "vacuum = Gripper('left')\n",
      "vacuum_sensor = baxter_interface.AnalogIO('left_vacuum_sensor_analog')\n",
      "\n",
      "camera_right_side = Camera('right')\n",
      "camera_left_side = Camera('left')\n",
      "\n",
      "range_right = ArmRangeSensor('right')\n",
      "range_left = ArmRangeSensor('left')"
     ],
     "language": "python",
     "metadata": {},
     "outputs": [],
     "prompt_number": 7
    },
    {
     "cell_type": "markdown",
     "metadata": {},
     "source": [
      "### Get Baxter's current arm joint and Cartesian pose.\n",
      "\n",
      "The `.joint_angles()` method returns the arm's joint angle positions in radians.\n",
      "\n",
      "The `.pose` property contains the arm's x, y, z position in meters, and [quaternion](https://en.wikipedia.org/wiki/Quaternion) orientation."
     ]
    },
    {
     "cell_type": "code",
     "collapsed": false,
     "input": [
      "joint_angles_right = arm_right.joint_angles()\n",
      "pose_right = position_right.endpoint.pose\n",
      "\n",
      "pp.pprint(joint_angles_right)\n",
      "print(pose_right)"
     ],
     "language": "python",
     "metadata": {},
     "outputs": [
      {
       "output_type": "stream",
       "stream": "stdout",
       "text": [
        "{ 'right_e0': 0.4210777262745461,\n",
        "  'right_e1': 0.8574952604279463,\n",
        "  'right_s0': 0.7102331047909466,\n",
        "  'right_s1': -0.5974855168813686,\n",
        "  'right_w0': -0.337475773334791,\n",
        "  'right_w1': 1.4350390270668045,\n",
        "  'right_w2': 0.19826701683418974}\n",
        "position: \n",
        "  x: 0.797339047565\n",
        "  y: -0.174189096165\n",
        "  z: 0.0767805841993\n",
        "orientation: \n",
        "  x: -0.0204460592024\n",
        "  y: 0.999291233944\n",
        "  z: -0.00176973131566\n",
        "  w: -0.0315571937289\n"
       ]
      }
     ],
     "prompt_number": 26
    },
    {
     "cell_type": "markdown",
     "metadata": {},
     "source": [
      "### Move Baxter's arm to a selected pose"
     ]
    },
    {
     "cell_type": "markdown",
     "metadata": {},
     "source": [
      "Using the inverse kinematics solver, we can get the joint values that correspond to our selected Cartesian pose. If Baxter isn't able to move his arm to the selected position the solution will be `None`."
     ]
    },
    {
     "cell_type": "code",
     "collapsed": false,
     "input": [
      "def detect_and_pick_hippo():\n",
      "    poses = []\n",
      "    \n",
      "    pose_1 = Pose(\n",
      "                    position=Point(\n",
      "                        x=0.0501907086068,\n",
      "                        y=-0.787736631852,\n",
      "                        z=0.262145583058,\n",
      "                    ),\n",
      "                    orientation=Quaternion(\n",
      "                        x=-0.0324752087922,\n",
      "                        y=0.998737365689,\n",
      "                        z=0.00363197619682,\n",
      "                        w=-0.0381555230607,\n",
      "                    ),\n",
      "                )\n",
      "    \n",
      "    poses.append(pose_1)\n",
      "    \n",
      "    pose_2 = Pose(\n",
      "                    position=Point(\n",
      "                        x=0.21906789824,\n",
      "                        y=-0.760677901309,\n",
      "                        z=0.250716088924,\n",
      "                    ),\n",
      "                    orientation=Quaternion(\n",
      "                        x=-0.0324752087922,\n",
      "                        y=0.998737365689,\n",
      "                        z=0.00363197619682,\n",
      "                        w=-0.0381555230607,\n",
      "                    ),\n",
      "                )\n",
      "    \n",
      "    poses.append(pose_2)\n",
      "    \n",
      "    pose_3 = Pose(\n",
      "                    position=Point(\n",
      "                        x=0.426649592513,\n",
      "                        y=-0.757235526559,\n",
      "                        z=0.236474989753,\n",
      "                    ),\n",
      "                    orientation=Quaternion(\n",
      "                        x=-0.0324752087922,\n",
      "                        y=0.998737365689,\n",
      "                        z=0.00363197619682,\n",
      "                        w=-0.0381555230607,\n",
      "                    ),\n",
      "                )\n",
      "    \n",
      "    poses.append(pose_3)\n",
      "    \n",
      "    pose_4 = Pose(\n",
      "                    position=Point(\n",
      "                        x=0.641383652318,\n",
      "                        y=-0.743661917587,\n",
      "                        z=0.148581681534,\n",
      "                    ),\n",
      "                    orientation=Quaternion(\n",
      "                        x=-0.0324752087922,\n",
      "                        y=0.998737365689,\n",
      "                        z=0.00363197619682,\n",
      "                        w=-0.0381555230607,\n",
      "                    ),\n",
      "                )\n",
      "    \n",
      "    poses.append(pose_4)\n",
      "    \n",
      "    pose_5 = Pose(\n",
      "                    position=Point(\n",
      "                        x=0.301362672309,\n",
      "                        y=-0.62232917155,\n",
      "                        z=0.114333111335,\n",
      "                    ),\n",
      "                    orientation=Quaternion(\n",
      "                        x=-0.0324752087922,\n",
      "                        y=0.998737365689,\n",
      "                        z=0.00363197619682,\n",
      "                        w=-0.0381555230607,\n",
      "                    ),\n",
      "                )\n",
      "    \n",
      "    poses.append(pose_5)\n",
      "    \n",
      "    pose_6 = Pose(\n",
      "                    position=Point(\n",
      "                        x=0.461984566529,\n",
      "                        y=-0.597144272135,\n",
      "                        z=0.101968885366,\n",
      "                    ),\n",
      "                    orientation=Quaternion(\n",
      "                        x=-0.0324752087922,\n",
      "                        y=0.998737365689,\n",
      "                        z=0.00363197619682,\n",
      "                        w=-0.0381555230607,\n",
      "                    ),\n",
      "                )\n",
      "    \n",
      "    poses.append(pose_6)\n",
      "    \n",
      "    pose_7 = Pose(\n",
      "                    position=Point(\n",
      "                        x=0.581817677017,\n",
      "                        y=-0.610133255902,\n",
      "                        z=0.0846809950951,\n",
      "                    ),\n",
      "                    orientation=Quaternion(\n",
      "                        x=-0.0324752087922,\n",
      "                        y=0.998737365689,\n",
      "                        z=0.00363197619682,\n",
      "                        w=-0.0381555230607,\n",
      "                    ),\n",
      "                )\n",
      "    \n",
      "    poses.append(pose_7)\n",
      "    \n",
      "    pose_8 = Pose(\n",
      "                    position=Point(\n",
      "                        x= 0.771391141151,\n",
      "                        y=-0.590719919242,\n",
      "                        z=0.0634350278229,\n",
      "                    ),\n",
      "                    orientation=Quaternion(\n",
      "                        x=-0.0324752087922,\n",
      "                        y=0.998737365689,\n",
      "                        z=0.00363197619682,\n",
      "                        w=-0.0381555230607,\n",
      "                    ),\n",
      "                )\n",
      "    \n",
      "    \n",
      "    poses.append(pose_8)\n",
      "    \n",
      "    \n",
      "    pose_9 = Pose(\n",
      "                    position=Point(\n",
      "                        x= 0.598327662583,\n",
      "                        y=-0.397089451133,\n",
      "                        z=0.0691728862868,\n",
      "                    ),\n",
      "                    orientation=Quaternion(\n",
      "                        x=-0.0324752087922,\n",
      "                        y=0.998737365689,\n",
      "                        z=0.00363197619682,\n",
      "                        w=-0.0381555230607,\n",
      "                    ),\n",
      "                )\n",
      "    \n",
      "    poses.append(pose_9)\n",
      "    \n",
      "    pose_10 = Pose(\n",
      "                    position=Point(\n",
      "                        x= 0.779203796365,\n",
      "                        y=-0.363315125682,\n",
      "                        z=0.0511404454655,\n",
      "                    ),\n",
      "                    orientation=Quaternion(\n",
      "                        x=-0.0324752087922,\n",
      "                        y=0.998737365689,\n",
      "                        z=0.00363197619682,\n",
      "                        w=-0.0381555230607,\n",
      "                    ),\n",
      "                )\n",
      "    \n",
      "    poses.append(pose_10)\n",
      "    \n",
      "    pose_11 = Pose(\n",
      "                    position=Point(\n",
      "                        x= 0.508332779054,\n",
      "                        y=-0.154106410283,\n",
      "                        z=0.122263239481,\n",
      "                    ),\n",
      "                    orientation=Quaternion(\n",
      "                        x=-0.0324752087922,\n",
      "                        y=0.998737365689,\n",
      "                        z=0.00363197619682,\n",
      "                        w=-0.0381555230607,\n",
      "                    ),\n",
      "                )\n",
      "    \n",
      "    poses.append(pose_11)\n",
      "    \n",
      "    pose_12 = Pose(\n",
      "                    position=Point(\n",
      "                        x= 0.698796523236,\n",
      "                        y=-0.162979656703,\n",
      "                        z=0.106488757013,\n",
      "                    ),\n",
      "                    orientation=Quaternion(\n",
      "                        x=-0.0324752087922,\n",
      "                        y=0.998737365689,\n",
      "                        z=0.00363197619682,\n",
      "                        w=-0.0381555230607,\n",
      "                    ),\n",
      "                )\n",
      "    \n",
      "    poses.append(pose_12)\n",
      "    \n",
      "    pose_13 = Pose(\n",
      "                    position=Point(\n",
      "                        x= 0.797339047565,\n",
      "                        y=-0.174189096165,\n",
      "                        z=0.0767805841993,\n",
      "                    ),\n",
      "                    orientation=Quaternion(\n",
      "                        x=-0.0324752087922,\n",
      "                        y=0.998737365689,\n",
      "                        z=0.00363197619682,\n",
      "                        w=-0.0381555230607,\n",
      "                    ),\n",
      "                )\n",
      "    \n",
      "    poses.append(pose_13)\n",
      "    \n",
      "    detection = None\n",
      "    \n",
      "    for pose in poses:\n",
      "        solution_joints = ik_solver_right.solve(pose)\n",
      "        arm_right.move_to_joint_positions(solution_joints)\n",
      "    \n",
      "        detection = detect_hippo()\n",
      "        if detection and detection.get(\"confidence\") > 90:\n",
      "            base_x_pos = 300\n",
      "            base_y_pos = 480\n",
      "            \n",
      "            pick_location = 0.05\n",
      "            \n",
      "            print(detection)\n",
      "            detection_center = detection[\"center\"]\n",
      "            \n",
      "            joint_angles_right = arm_right.joint_angles()\n",
      "            current_pose = position_right.endpoint.pose\n",
      "            \n",
      "            move_factor = 10**-3\n",
      "            \n",
      "            if current_pose.position.z > 0.2:\n",
      "                move_factor = 10**-4\n",
      "            elif current_pose.position.z < 0.2 and current_pose.position.z > 0.1:\n",
      "                move_factor = 10**-3 / 1.5\n",
      "            else:\n",
      "                move_factor = 10**-3\n",
      "            \n",
      "            \n",
      "            current_pose.position.x -= (detection_center[0] - base_x_pos) * move_factor\n",
      "            current_pose.position.y -= (detection_center[1] - base_y_pos) * move_factor * 300/480\n",
      "            \n",
      "            solution_joints = ik_solver_right.solve(current_pose)\n",
      "            if solution_joints:\n",
      "                break\n",
      "    \n",
      "    if detection:\n",
      "        arm_right.move_to_joint_positions(solution_joints)\n",
      "        current_pose.position.z = -0.07\n",
      "        solution_joints = ik_solver_right.solve(current_pose)\n",
      "        arm_right.move_to_joint_positions(solution_joints)\n",
      "        \n",
      "        fingers.close()"
     ],
     "language": "python",
     "metadata": {},
     "outputs": [],
     "prompt_number": 86
    },
    {
     "cell_type": "code",
     "collapsed": false,
     "input": [
      "user_animal = raw_input()\n",
      "while user_animal != \"hippo\":\n",
      "    print(\"Enter Again...\")\n",
      "    user_animal = raw_input()\n",
      "\n",
      "detect_and_pick_hippo()    "
     ],
     "language": "python",
     "metadata": {},
     "outputs": [
      {
       "output_type": "stream",
       "stream": "stderr",
       "text": [
        "[WARN] [WallTime: 1574980004.677233] Unable to command right_gripper position until calibrated\n"
       ]
      },
      {
       "metadata": {},
       "output_type": "pyout",
       "prompt_number": 81,
       "text": [
        "False"
       ]
      }
     ],
     "prompt_number": 81
    },
    {
     "cell_type": "code",
     "collapsed": false,
     "input": [],
     "language": "python",
     "metadata": {},
     "outputs": [],
     "prompt_number": 41
    },
    {
     "cell_type": "code",
     "collapsed": false,
     "input": [
      "p = os.getcwd()\n",
      "for item in pose_list:\n",
      "    print(item)\n",
      "    arm_right.move_to_joint_positions(item)\n",
      "    \n",
      "    #click the image and save in image dir\n",
      "    image = camera_right_side.image\n",
      "    cv2.imwrite(os.path.join(IMAGE_DIR, \"image_{}.jpg\".format('test')), image)\n",
      "    \n",
      "    #get the image\n",
      "    example_image = cv2.imread('../../data/images/image_test.jpg')\n",
      "    plt.imshow(cv2.cvtColor(example_image, cv2.COLOR_BGR2RGB))\n",
      "    \n",
      "    #detect the image\n",
      "    detection = detect_toy(example_image)\n",
      "\n",
      "    # define colors. in opencv, colors are ordered in BGR *not* RGB\n",
      "    if(detection != None):\n",
      "        \n",
      "        red = (0, 0, 255)\n",
      "        green = (0, 255, 0)\n",
      "        blue = (255, 0, 0)\n",
      "        yellow = (0, 255, 255)\n",
      "        \n",
      "        # draw center point in red\n",
      "        cv2.circle(example_image, detection.get('center'), radius=10, color=red, thickness=10)\n",
      "        \n",
      "        # draw minimum bounding rectangle in green\n",
      "        cv2.drawContours(example_image, [np.intp(detection.get('min_rectangle'))], contourIdx=-1, color=green, thickness=5)\n",
      "        \n",
      "        # display image. to show correct colors you have to convert from BGR to RGB\n",
      "        plt.imshow(cv2.cvtColor(example_image, cv2.COLOR_BGR2RGB))\n",
      "    else:\n",
      "        print(\"no detection happened\");"
     ],
     "language": "python",
     "metadata": {},
     "outputs": [
      {
       "output_type": "stream",
       "stream": "stdout",
       "text": [
        "{'right_s0': -0.273184874445769, 'right_s1': -1.041429579860133, 'right_w0': -0.36617252002978345, 'right_w1': 1.7120631637275123, 'right_w2': 2.959, 'right_e0': 0.9199961278147343, 'right_e1': 1.0924841919938264}\n",
        "no detection happened"
       ]
      },
      {
       "output_type": "stream",
       "stream": "stdout",
       "text": [
        "\n",
        "{'right_s0': -0.273184874445769, 'right_s1': -1.041429579860133, 'right_w0': -0.36617252002978345, 'right_w1': 1.7120631637275123, 'right_w2': 2.959, 'right_e0': 0.9199961278147343, 'right_e1': 1.0924841919938264}\n",
        "no detection happened"
       ]
      },
      {
       "output_type": "stream",
       "stream": "stdout",
       "text": [
        "\n",
        "{'right_s0': -0.273184874445769, 'right_s1': -1.041429579860133, 'right_w0': -0.36617252002978345, 'right_w1': 1.7120631637275123, 'right_w2': 2.959, 'right_e0': 0.9199961278147343, 'right_e1': 1.0924841919938264}\n",
        "no detection happened"
       ]
      },
      {
       "output_type": "stream",
       "stream": "stdout",
       "text": [
        "\n",
        "{'right_s0': -1.0834037165251222, 'right_s1': -1.0278565903734675, 'right_w0': -0.402914281910017, 'right_w1': 1.5949087247084504, 'right_w2': 0.6974963215758082, 'right_e0': 1.0848282204717208, 'right_e1': 1.2782163850559027}\n",
        "no detection happened"
       ]
      },
      {
       "output_type": "stream",
       "stream": "stdout",
       "text": [
        "\n"
       ]
      },
      {
       "metadata": {},
       "output_type": "display_data",
       "png": "[encoded data removed]",
       "text": [
        "<matplotlib.figure.Figure at 0x7fe978187690>"
       ]
      }
     ],
     "prompt_number": 16
    },
    {
     "cell_type": "markdown",
     "metadata": {},
     "source": [
      "If we have a valid solution, let's move to it."
     ]
    },
    {
     "cell_type": "markdown",
     "metadata": {},
     "source": [
      "### Use Baxter's hands\n",
      "\n",
      "He has a a couple fingers on his right hand and a vacuum in his left. \n",
      "\n",
      "You have to calibrate his fingers so he knows what their limits are. Watch out, they move during this step. \n",
      "\n",
      "You can read how hard his vacuum is pulling."
     ]
    },
    {
     "cell_type": "code",
     "collapsed": false,
     "input": [
      "fingers.calibrate()"
     ],
     "language": "python",
     "metadata": {},
     "outputs": [
      {
       "metadata": {},
       "output_type": "pyout",
       "prompt_number": 9,
       "text": [
        "True"
       ]
      }
     ],
     "prompt_number": 9
    },
    {
     "cell_type": "code",
     "collapsed": false,
     "input": [
      "fingers.close()"
     ],
     "language": "python",
     "metadata": {},
     "outputs": [
      {
       "metadata": {},
       "output_type": "pyout",
       "prompt_number": 10,
       "text": [
        "True"
       ]
      }
     ],
     "prompt_number": 10
    },
    {
     "cell_type": "code",
     "collapsed": false,
     "input": [
      "fingers.open()"
     ],
     "language": "python",
     "metadata": {},
     "outputs": [
      {
       "metadata": {},
       "output_type": "pyout",
       "prompt_number": 11,
       "text": [
        "True"
       ]
      }
     ],
     "prompt_number": 11
    },
    {
     "cell_type": "markdown",
     "metadata": {},
     "source": [
      "Start sucking..."
     ]
    },
    {
     "cell_type": "code",
     "collapsed": false,
     "input": [
      "vacuum.close()"
     ],
     "language": "python",
     "metadata": {},
     "outputs": [
      {
       "metadata": {},
       "output_type": "pyout",
       "prompt_number": 12,
       "text": [
        "True"
       ]
      }
     ],
     "prompt_number": 12
    },
    {
     "cell_type": "markdown",
     "metadata": {},
     "source": [
      "and release."
     ]
    },
    {
     "cell_type": "code",
     "collapsed": false,
     "input": [
      "vacuum.open()"
     ],
     "language": "python",
     "metadata": {},
     "outputs": [
      {
       "metadata": {},
       "output_type": "pyout",
       "prompt_number": 13,
       "text": [
        "True"
       ]
      }
     ],
     "prompt_number": 13
    },
    {
     "cell_type": "markdown",
     "metadata": {},
     "source": [
      "### Take an image with Baxter's hand camera"
     ]
    },
    {
     "cell_type": "markdown",
     "metadata": {},
     "source": [
      "Show the image here"
     ]
    },
    {
     "cell_type": "markdown",
     "metadata": {},
     "source": [
      "save the image into the `IMAGE_DIR` directory "
     ]
    },
    {
     "cell_type": "markdown",
     "metadata": {},
     "source": [
      "### Get the distance to what's in front of Baxter's hand"
     ]
    },
    {
     "cell_type": "code",
     "collapsed": false,
     "input": [
      "distance_right = range_right.distance\n",
      "distance_left = range_left.distance"
     ],
     "language": "python",
     "metadata": {},
     "outputs": [],
     "prompt_number": 17
    },
    {
     "cell_type": "code",
     "collapsed": false,
     "input": [
      "print(\"right distance: {:.2f}\\nleft distance: {:.2f}\".format(distance_right, distance_left))"
     ],
     "language": "python",
     "metadata": {},
     "outputs": [
      {
       "output_type": "stream",
       "stream": "stdout",
       "text": [
        "right distance: 0.33\n",
        "left distance: 65.54\n"
       ]
      }
     ],
     "prompt_number": 24
    },
    {
     "cell_type": "markdown",
     "metadata": {},
     "source": [
      "### Give Baxter a rest\n",
      "\n",
      "Remember to place his arms in a comfortable position before putting him to sleep."
     ]
    },
    {
     "cell_type": "code",
     "collapsed": false,
     "input": [
      "rest_angles_right = {'right_e0': 0,\n",
      "                     'right_e1': 1,\n",
      "                     'right_s0': 0,\n",
      "                     'right_s1': -0.1,\n",
      "                     'right_w0': 0,\n",
      "                     'right_w1': -1,\n",
      "                     'right_w2': 0}"
     ],
     "language": "python",
     "metadata": {},
     "outputs": [],
     "prompt_number": 91
    },
    {
     "cell_type": "code",
     "collapsed": false,
     "input": [
      "rest_angles_left = {'left_e0': 0,\n",
      "                    'left_e1': 1,\n",
      "                    'left_s0': 0,\n",
      "                    'left_s1': -0.1,\n",
      "                    'left_w0': 0,\n",
      "                    'left_w1': -1,\n",
      "                    'left_w2': 0}"
     ],
     "language": "python",
     "metadata": {},
     "outputs": [],
     "prompt_number": 92
    },
    {
     "cell_type": "code",
     "collapsed": false,
     "input": [
      "arm_right.move_to_joint_positions(rest_angles_right)\n",
      "arm_left.move_to_joint_positions(rest_angles_left)"
     ],
     "language": "python",
     "metadata": {},
     "outputs": [],
     "prompt_number": 93
    },
    {
     "cell_type": "code",
     "collapsed": false,
     "input": [
      "baxter.disable()"
     ],
     "language": "python",
     "metadata": {},
     "outputs": [
      {
       "output_type": "stream",
       "stream": "stdout",
       "text": [
        "[INFO] [WallTime: 1537195314.829921] Robot Disabled\n"
       ]
      }
     ],
     "prompt_number": 94
    }
   ],
   "metadata": {}
  }
 ]
}